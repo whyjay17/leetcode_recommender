{
 "cells": [
  {
   "cell_type": "code",
   "execution_count": 6,
   "metadata": {},
   "outputs": [],
   "source": [
    "# Given two words, find whether they are in the same synset\n",
    "from nltk.corpus import wordnet as wn"
   ]
  },
  {
   "cell_type": "code",
   "execution_count": 11,
   "metadata": {},
   "outputs": [
    {
     "data": {
      "text/plain": [
       "[Synset('two.n.01'), Synset('deuce.n.04'), Synset('two.s.01')]"
      ]
     },
     "execution_count": 11,
     "metadata": {},
     "output_type": "execute_result"
    }
   ],
   "source": [
    "wn.synsets('two')"
   ]
  },
  {
   "cell_type": "code",
   "execution_count": 12,
   "metadata": {},
   "outputs": [
    {
     "data": {
      "text/plain": [
       "[Synset('one.n.01'),\n",
       " Synset('one.n.02'),\n",
       " Synset('one.s.01'),\n",
       " Synset('one.s.02'),\n",
       " Synset('one.s.03'),\n",
       " Synset('one.s.04'),\n",
       " Synset('one.s.05'),\n",
       " Synset('one.s.06'),\n",
       " Synset('matchless.s.01')]"
      ]
     },
     "execution_count": 12,
     "metadata": {},
     "output_type": "execute_result"
    }
   ],
   "source": [
    "wn.synsets('one')"
   ]
  },
  {
   "cell_type": "code",
   "execution_count": 9,
   "metadata": {},
   "outputs": [],
   "source": [
    "def are_same_synset(word1, word2):\n",
    "    \n",
    "    word1_set = set(wn.synsets(word1))\n",
    "    word2_set = set(wn.synsets(word2))\n",
    "    common_synset = word1_set.intersection(word2_set)\n",
    "    \n",
    "    return common_synset"
   ]
  },
  {
   "cell_type": "code",
   "execution_count": 10,
   "metadata": {},
   "outputs": [
    {
     "data": {
      "text/plain": [
       "{Synset('male.a.01'),\n",
       " Synset('male.n.01'),\n",
       " Synset('male.n.02'),\n",
       " Synset('male.n.03'),\n",
       " Synset('male.s.02'),\n",
       " Synset('male.s.03')}"
      ]
     },
     "execution_count": 10,
     "metadata": {},
     "output_type": "execute_result"
    }
   ],
   "source": [
    "are_same_synset('male', 'male')"
   ]
  },
  {
   "cell_type": "code",
   "execution_count": null,
   "metadata": {},
   "outputs": [],
   "source": []
  }
 ],
 "metadata": {
  "kernelspec": {
   "display_name": "Python 3",
   "language": "python",
   "name": "python3"
  },
  "language_info": {
   "codemirror_mode": {
    "name": "ipython",
    "version": 3
   },
   "file_extension": ".py",
   "mimetype": "text/x-python",
   "name": "python",
   "nbconvert_exporter": "python",
   "pygments_lexer": "ipython3",
   "version": "3.7.1"
  }
 },
 "nbformat": 4,
 "nbformat_minor": 2
}
