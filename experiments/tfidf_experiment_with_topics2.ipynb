{
 "cells": [
  {
   "cell_type": "code",
   "execution_count": 112,
   "metadata": {},
   "outputs": [],
   "source": [
    "import pandas as pd\n",
    "import ast\n",
    "# Import TfIdfVectorizer from scikit-learn\n",
    "from sklearn.feature_extraction.text import TfidfVectorizer\n",
    "from sklearn.metrics.pairwise import linear_kernel"
   ]
  },
  {
   "cell_type": "code",
   "execution_count": 113,
   "metadata": {},
   "outputs": [],
   "source": [
    "# Load Movies Metadata\n",
    "data = pd.read_csv('../data/leetcode_data_processed_topics2.csv', low_memory=False)\n",
    "test = pd.read_csv('../data/leetcode_labels.csv', low_memory=False)"
   ]
  },
  {
   "cell_type": "code",
   "execution_count": 114,
   "metadata": {},
   "outputs": [
    {
     "data": {
      "text/plain": [
       "146"
      ]
     },
     "execution_count": 114,
     "metadata": {},
     "output_type": "execute_result"
    }
   ],
   "source": [
    "test[test['name'] == 'LRU Cache'].id.values.astype(int)[0]"
   ]
  },
  {
   "cell_type": "code",
   "execution_count": 115,
   "metadata": {},
   "outputs": [
    {
     "data": {
      "text/html": [
       "<div>\n",
       "<style scoped>\n",
       "    .dataframe tbody tr th:only-of-type {\n",
       "        vertical-align: middle;\n",
       "    }\n",
       "\n",
       "    .dataframe tbody tr th {\n",
       "        vertical-align: top;\n",
       "    }\n",
       "\n",
       "    .dataframe thead th {\n",
       "        text-align: right;\n",
       "    }\n",
       "</style>\n",
       "<table border=\"1\" class=\"dataframe\">\n",
       "  <thead>\n",
       "    <tr style=\"text-align: right;\">\n",
       "      <th></th>\n",
       "      <th>id</th>\n",
       "      <th>name</th>\n",
       "      <th>content</th>\n",
       "      <th>difficulty</th>\n",
       "    </tr>\n",
       "  </thead>\n",
       "  <tbody>\n",
       "    <tr>\n",
       "      <th>728</th>\n",
       "      <td>146</td>\n",
       "      <td>LRU Cache</td>\n",
       "      <td>['design', 'implement', 'data', 'structure', '...</td>\n",
       "      <td>2</td>\n",
       "    </tr>\n",
       "  </tbody>\n",
       "</table>\n",
       "</div>"
      ],
      "text/plain": [
       "      id       name                                            content  \\\n",
       "728  146  LRU Cache  ['design', 'implement', 'data', 'structure', '...   \n",
       "\n",
       "     difficulty  \n",
       "728           2  "
      ]
     },
     "execution_count": 115,
     "metadata": {},
     "output_type": "execute_result"
    }
   ],
   "source": [
    "data[data['id'] == 146]"
   ]
  },
  {
   "cell_type": "code",
   "execution_count": 116,
   "metadata": {},
   "outputs": [],
   "source": [
    "test['similar_questions'] = test['similar_questions'].apply(ast.literal_eval)"
   ]
  },
  {
   "cell_type": "code",
   "execution_count": 118,
   "metadata": {},
   "outputs": [],
   "source": [
    "def get_recommendations(title, cosine_sim=cosine_sim, threshold=0.3):\n",
    "    # get the idx of the movie that matches the title\n",
    "    movie_idx = idx[title]\n",
    "    # get the pairwise similarity scores with that movie\n",
    "    sim_scores = list(enumerate(cosine_sim[movie_idx]))\n",
    "    # sort\n",
    "    sim_scores = sorted(sim_scores, key=lambda x: x[1], reverse=True)\n",
    "    sim_scores = [sim for sim in sim_scores[1:] if sim[1] > threshold]\n",
    "    res_idx = [i[0] for i in sim_scores]\n",
    "    print(sim_scores)\n",
    "    return data['name'].iloc[res_idx].tolist()"
   ]
  },
  {
   "cell_type": "code",
   "execution_count": 119,
   "metadata": {},
   "outputs": [
    {
     "data": {
      "text/plain": [
       "False"
      ]
     },
     "execution_count": 119,
     "metadata": {},
     "output_type": "execute_result"
    }
   ],
   "source": [
    "set([1,2,3,4]).isdisjoint([5,2,7])"
   ]
  },
  {
   "cell_type": "code",
   "execution_count": 120,
   "metadata": {},
   "outputs": [],
   "source": [
    "def is_correct(predictions, actual):\n",
    "    # if there is an overlap, return True\n",
    "    return not set(predictions).isdisjoint(actual)"
   ]
  },
  {
   "cell_type": "code",
   "execution_count": 129,
   "metadata": {},
   "outputs": [
    {
     "data": {
      "text/plain": [
       "(485, 874)"
      ]
     },
     "execution_count": 129,
     "metadata": {},
     "output_type": "execute_result"
    }
   ],
   "source": [
    "len(test), len(data)"
   ]
  },
  {
   "cell_type": "code",
   "execution_count": 121,
   "metadata": {},
   "outputs": [
    {
     "data": {
      "text/plain": [
       "(874, 2871)"
      ]
     },
     "execution_count": 121,
     "metadata": {},
     "output_type": "execute_result"
    }
   ],
   "source": [
    "tfidf = TfidfVectorizer(stop_words='english')\n",
    "data['content'] = data['content'].fillna('')\n",
    "tfidf_matrix = tfidf.fit_transform(data['content'])\n",
    "tfidf_matrix.shape"
   ]
  },
  {
   "cell_type": "code",
   "execution_count": 123,
   "metadata": {},
   "outputs": [],
   "source": [
    "# Compute the cosine similarity matrix\n",
    "cosine_sim = linear_kernel(tfidf_matrix, tfidf_matrix)\n",
    "\n",
    "#Construct a reverse map of indices and movie titles\n",
    "indices = pd.Series(data.index, index=data['name']).drop_duplicates()\n",
    "idx = pd.Series(data.index, index=data['name']).drop_duplicates()"
   ]
  },
  {
   "cell_type": "code",
   "execution_count": 124,
   "metadata": {},
   "outputs": [
    {
     "data": {
      "text/plain": [
       "name\n",
       "Shortest Path in Binary Matrix    0\n",
       "Shortest Common Supersequence     1\n",
       "Largest Values From Labels        2\n",
       "dtype: int64"
      ]
     },
     "execution_count": 124,
     "metadata": {},
     "output_type": "execute_result"
    }
   ],
   "source": [
    "idx[:3]"
   ]
  },
  {
   "cell_type": "code",
   "execution_count": 140,
   "metadata": {},
   "outputs": [
    {
     "name": "stdout",
     "output_type": "stream",
     "text": [
      "Uncrossed Lines\n",
      "Coloring A Border\n",
      "Max Consecutive Ones III\n",
      "Check If Word Is Valid After Substitutions\n",
      "Find Common Characters\n",
      "Grid Illumination\n",
      "Minimum Cost to Merge Stones\n",
      "Maximum Binary Tree II\n",
      "Find the Town Judge\n",
      "Number of Squareful Arrays\n",
      "Minimum Number of K Consecutive Bit Flips\n",
      "Rotting Oranges\n",
      "Cousins in Binary Tree\n",
      "Subarrays with K Different Integers\n",
      "Broken Calculator\n",
      "Add to Array-Form of Integer\n",
      "Smallest String Starting From Leaf\n",
      "Interval List Intersections\n",
      "Minimum Cost For Tickets\n",
      "Unique Paths III\n",
      "Distribute Coins in Binary Tree\n",
      "Longest Turbulent Subarray\n",
      "Squares of a Sorted Array\n",
      "Largest Perimeter Triangle\n",
      "Subarray Sums Divisible by K\n",
      "K Closest Points to Origin\n",
      "Fibonacci Number\n",
      "Binary Tree Cameras\n",
      "Generate Random Point in a Circle\n",
      "Random Point in Non-overlapping Rectangles\n",
      "Random Pick with Weight\n",
      "Koko Eating Bananas\n",
      "Length of Longest Fibonacci Subsequence\n",
      "Random Pick with Blacklist\n",
      "Exam Room\n",
      "K-Similar Strings\n",
      "Peak Index in a Mountain Array\n",
      "Maximize Distance to Closest Person\n",
      "Split Array into Fibonacci Sequence\n",
      "Rectangle Overlap\n",
      "Sum of Distances in Tree\n",
      "Design Circular Queue\n",
      "Design Circular Deque\n",
      "Largest Triangle Area\n",
      "Design HashMap\n",
      "Design HashSet\n",
      "Valid Tic-Tac-Toe State\n",
      "Preimage Size of Factorial Zeroes Function\n",
      "Number of Matching Subsequences\n",
      "Cheapest Flights Within K Stops\n",
      "K-th Smallest Prime Fraction\n",
      "Letter Case Permutation\n",
      "Minimum Distance Between BST Nodes\n",
      "Binary Search\n",
      "Kth Largest Element in a Stream\n",
      "Insert into a Binary Search Tree\n",
      "Search in a Binary Search Tree\n",
      "Basic Calculator IV\n",
      "Max Chunks To Make Sorted\n",
      "Max Chunks To Make Sorted II\n",
      "Reorganize String\n",
      "Toeplitz Matrix\n",
      "N-ary Tree Postorder Traversal\n",
      "N-ary Tree Preorder Traversal\n",
      "Maximum Depth of N-ary Tree\n",
      "Couples Holding Hands\n",
      "Largest Plus Sign\n",
      "Partition Labels\n",
      "Prime Number of Set Bits in Binary Representation\n",
      "Flatten a Multilevel Doubly Linked List\n",
      "N-ary Tree Level Order Traversal\n",
      "Special Binary String\n",
      "Min Cost Climbing Stairs\n",
      "Prefix and Suffix Search\n",
      "Cherry Pickup\n",
      "Delete and Earn\n",
      "Daily Temperatures\n",
      "Monotone Increasing Digits\n",
      "Parse Lisp Expression\n",
      "Asteroid Collision\n",
      "Flood Fill\n",
      "My Calendar III\n",
      "My Calendar II\n",
      "Count Different Palindromic Subsequences\n",
      "My Calendar I\n",
      "Self Dividing Numbers\n",
      "Number of Atoms\n",
      "Split Linked List in Parts\n",
      "Find Pivot Index\n",
      "Remove Comments\n",
      "Accounts Merge\n",
      "Longest Word in Dictionary\n",
      "Find K-th Smallest Pair Distance\n",
      "Maximum Length of Repeated Subarray\n",
      "1-bit and 2-bit Characters\n",
      "Range Module\n",
      "Best Time to Buy and Sell Stock with Transaction Fee\n",
      "Subarray Product Less Than K\n",
      "Minimum ASCII Delete Sum for Two Strings\n",
      "Falling Squares\n",
      "Partition to K Equal Sum Subsets\n",
      "Degree of an Array\n",
      "Count Binary Substrings\n",
      "Max Area of Island\n",
      "Binary Number with Alternating Bits\n",
      "Top K Frequent Words\n",
      "Stickers to Spell Word\n",
      "Employee Importance\n",
      "Maximum Sum of 3 Non-Overlapping Subarrays\n",
      "Knight Probability in Chessboard\n",
      "Longest Univalue Path\n",
      "Repeated String Match\n",
      "Redundant Connection II\n",
      "Redundant Connection\n",
      "Valid Palindrome II\n",
      "Valid Parenthesis String\n",
      "Implement Magic Dictionary\n",
      "Longest Continuous Increasing Subsequence\n",
      "Number of Longest Increasing Subsequence\n",
      "Bulb Switcher II\n",
      "Second Minimum Node In a Binary Tree\n",
      "Maximum Swap\n",
      "Kth Smallest Number in Multiplication Table\n",
      "Beautiful Arrangement II\n",
      "Strange Printer\n",
      "Split Array into Consecutive Subsequences\n",
      "Find K Closest Elements\n",
      "Robot Return to Origin\n",
      "Maximum Binary Tree\n",
      "Two Sum IV - Input is a BST\n",
      "Find Duplicate Subtrees\n",
      "2 Keys Keyboard\n",
      "Dota2 Senate\n",
      "Replace Words\n",
      "Palindromic Substrings\n",
      "Maximum Length of Pair Chain\n",
      "Set Mismatch\n",
      "Maximum Average Subarray I\n",
      "Solve the Equation\n",
      "Decode Ways II\n",
      "Average of Levels in Binary Tree\n",
      "Sum of Square Numbers\n",
      "Smallest Range\n",
      "Course Schedule III\n",
      "Maximum Product of Three Numbers\n",
      "Task Scheduler\n",
      "Valid Triangle Number\n",
      "Construct String from Binary Tree\n",
      "Can Place Flowers\n",
      "Non-negative Integers without Consecutive Ones\n",
      "Minimum Index Sum of Two Lists\n",
      "Range Addition II\n",
      "Fraction Addition and Subtraction\n",
      "Tag Validator\n",
      "Delete Operation for Two Strings\n",
      "Out of Boundary Paths\n",
      "Subtree of Another Tree\n",
      "Permutation in String\n",
      "Array Nesting\n",
      "Subarray Sum Equals K\n",
      "Reverse Words in a String III\n",
      "Next Greater Element III\n",
      "Student Attendance Record II\n",
      "Student Attendance Record I\n",
      "Friend Circles\n",
      "Remove Boxes\n",
      "Reverse String II\n",
      "K-diff Pairs in an Array\n",
      "Minimum Absolute Difference in BST\n",
      "Beautiful Arrangement\n",
      "Contiguous Array\n",
      "Longest Word in Dictionary through Deleting\n",
      "Continuous Subarray Sum\n",
      "Longest Uncommon Subsequence II\n",
      "Longest Uncommon Subsequence I \n",
      "Longest Palindromic Subsequence\n",
      "Most Frequent Subtree Sum\n",
      "Perfect Number\n",
      "Next Greater Element II\n",
      "Find Mode in Binary Search Tree\n",
      "Next Greater Element I\n",
      "Teemo Attacking\n",
      "Target Sum\n",
      "Reverse Pairs\n",
      "Increasing Subsequences\n",
      "Predict the Winner\n",
      "Max Consecutive Ones\n",
      "Sliding Window Median\n",
      "Total Hamming Distance\n",
      "Ones and Zeroes\n",
      "Concatenated Words\n",
      "Validate IP Address\n",
      "Can I Win\n",
      "Island Perimeter\n",
      "Minimum Moves to Equal Array Elements II\n",
      "Hamming Distance\n",
      "LFU Cache\n",
      "Repeated Substring Pattern\n",
      "4Sum II\n",
      "Minimum Moves to Equal Array Elements\n",
      "Minimum Number of Arrows to Burst Balloons\n",
      "Sort Characters By Frequency\n",
      "Delete Node in a BST\n",
      "Serialize and Deserialize BST\n",
      "Find All Numbers Disappeared in an Array\n",
      "Number of Boomerangs\n",
      "Arithmetic Slices II - Subsequence\n",
      "Add Two Numbers II\n",
      "String Compression\n",
      "Find All Duplicates in an Array\n",
      "Find All Anagrams in a String\n",
      "Path Sum III\n",
      "Find Right Interval\n",
      "Non-overlapping Intervals\n",
      "Minimum Genetic Mutation\n",
      "Longest Repeating Character Replacement\n",
      "Partition Equal Subset Sum\n",
      "Add Strings\n",
      "Third Maximum Number\n",
      "Arithmetic Slices\n",
      "Longest Palindrome\n",
      "Trapping Rain Water II\n",
      "Queue Reconstruction by Height\n",
      "Remove K Digits\n",
      "Binary Watch\n",
      "Random Pick Index\n",
      "Decode String\n",
      "Is Subsequence\n",
      "Find the Difference\n",
      "First Unique Character in a String\n",
      "Mini Parser\n",
      "Ransom Note\n",
      "Linked List Random Node\n",
      "Insert Delete GetRandom O(1) - Duplicates allowed\n",
      "Insert Delete GetRandom O(1)\n",
      "Kth Smallest Element in a Sorted Matrix\n",
      "Combination Sum IV\n",
      "Guess Number Higher or Lower II\n",
      "Guess Number Higher or Lower\n",
      "Find K Pairs with Smallest Sums\n",
      "Super Pow\n",
      "Sum of Two Integers\n",
      "Valid Perfect Square\n",
      "Russian Doll Envelopes\n",
      "Data Stream as Disjoint Intervals\n",
      "Intersection of Two Arrays II\n",
      "Intersection of Two Arrays\n",
      "Top K Frequent Elements\n",
      "Reverse Vowels of a String\n",
      "Reverse String\n",
      "Power of Four\n",
      "Flatten Nested List Iterator\n",
      "Counting Bits\n",
      "House Robber III\n",
      "Palindrome Pairs\n",
      "Increasing Triplet Subsequence\n",
      "Odd Even Linked List\n",
      "Count of Range Sum\n",
      "Power of Three\n",
      "Wiggle Sort II\n",
      "Coin Change\n",
      "Create Maximum Number\n",
      "Bulb Switcher\n",
      "Count of Smaller Numbers After Self\n",
      "Super Ugly Number\n",
      "Burst Balloons\n",
      "Minimum Height Trees\n",
      "Best Time to Buy and Sell Stock with Cooldown\n",
      "Range Sum Query - Mutable\n",
      "Additive Number\n",
      "Range Sum Query 2D - Immutable\n",
      "Range Sum Query - Immutable\n",
      "Remove Invalid Parentheses\n",
      "Longest Increasing Subsequence\n",
      "Serialize and Deserialize Binary Tree\n",
      "Find Median from Data Stream\n",
      "Nim Game\n",
      "Word Pattern\n",
      "Game of Life\n",
      "Find the Duplicate Number\n",
      "Peeking Iterator\n",
      "Move Zeroes\n",
      "Expression Add Operators\n",
      "Perfect Squares\n",
      "First Bad Version\n",
      "H-Index II\n",
      "H-Index\n",
      "Integer to English Words\n",
      "Missing Number\n",
      "Ugly Number II\n",
      "Ugly Number\n",
      "Single Number III\n",
      "Add Digits\n",
      "Binary Tree Paths\n",
      "Valid Anagram\n",
      "Different Ways to Add Parentheses\n",
      "Search a 2D Matrix II\n",
      "Sliding Window Maximum\n",
      "Product of Array Except Self\n",
      "Delete Node in a Linked List\n",
      "Lowest Common Ancestor of a Binary Tree\n",
      "Lowest Common Ancestor of a Binary Search Tree\n",
      "Palindrome Linked List\n",
      "Number of Digit One\n",
      "Implement Queue using Stacks\n",
      "Power of Two\n",
      "Kth Smallest Element in a BST\n",
      "Majority Element II\n",
      "Summary Ranges\n",
      "Basic Calculator II\n",
      "Implement Stack using Queues\n",
      "Basic Calculator\n",
      "Rectangle Area\n",
      "Count Complete Tree Nodes\n",
      "Maximal Square\n",
      "Contains Duplicate III\n",
      "Contains Duplicate II\n",
      "The Skyline Problem\n",
      "Contains Duplicate\n",
      "Combination Sum III\n",
      "Kth Largest Element in an Array\n",
      "Shortest Palindrome\n",
      "House Robber II\n",
      "Word Search II\n",
      "Add and Search Word - Data structure design\n",
      "Course Schedule II\n",
      "Minimum Size Subarray Sum\n",
      "Implement Trie (Prefix Tree)\n",
      "Course Schedule\n",
      "Reverse Linked List\n",
      "Isomorphic Strings\n",
      "Count Primes\n",
      "Remove Linked List Elements\n",
      "Happy Number\n",
      "Number of Islands\n",
      "Binary Tree Right Side View\n",
      "House Robber\n",
      "Number of 1 Bits\n",
      "Reverse Bits\n",
      "Rotate Array\n",
      "Best Time to Buy and Sell Stock IV\n",
      "Dungeon Game\n",
      "Binary Search Tree Iterator\n",
      "Factorial Trailing Zeroes\n",
      "Excel Sheet Column Number\n",
      "Majority Element\n",
      "Excel Sheet Column Title\n",
      "Two Sum II - Input array is sorted\n",
      "Find Peak Element\n",
      "Intersection of Two Linked Lists\n",
      "Min Stack\n",
      "Find Minimum in Rotated Sorted Array II\n",
      "Find Minimum in Rotated Sorted Array\n",
      "Maximum Product Subarray\n",
      "Reverse Words in a String\n",
      "Evaluate Reverse Polish Notation\n",
      "Max Points on a Line\n",
      "Sort List\n",
      "Insertion Sort List\n",
      "LRU Cache\n",
      "Binary Tree Postorder Traversal\n",
      "Binary Tree Preorder Traversal\n",
      "Linked List Cycle II\n",
      "Linked List Cycle\n",
      "Word Break II\n",
      "Word Break\n",
      "Copy List with Random Pointer\n",
      "Single Number II\n",
      "Single Number\n",
      "Clone Graph\n",
      "Palindrome Partitioning II\n",
      "Palindrome Partitioning\n",
      "Surrounded Regions\n",
      "Sum Root to Leaf Numbers\n",
      "Longest Consecutive Sequence\n",
      "Word Ladder\n",
      "Word Ladder II\n",
      "Valid Palindrome\n",
      "Binary Tree Maximum Path Sum\n",
      "Best Time to Buy and Sell Stock III\n",
      "Best Time to Buy and Sell Stock II\n",
      "Best Time to Buy and Sell Stock\n",
      "Pascal's Triangle II\n",
      "Pascal's Triangle\n",
      "Populating Next Right Pointers in Each Node II\n",
      "Populating Next Right Pointers in Each Node\n",
      "Flatten Binary Tree to Linked List\n",
      "Path Sum II\n",
      "Path Sum\n",
      "Minimum Depth of Binary Tree\n",
      "Balanced Binary Tree\n",
      "Convert Sorted List to Binary Search Tree\n",
      "Convert Sorted Array to Binary Search Tree\n",
      "Binary Tree Level Order Traversal II\n",
      "Construct Binary Tree from Inorder and Postorder Traversal\n",
      "Construct Binary Tree from Preorder and Inorder Traversal\n",
      "Maximum Depth of Binary Tree\n",
      "Binary Tree Zigzag Level Order Traversal\n",
      "Binary Tree Level Order Traversal\n",
      "Validate Binary Search Tree\n",
      "Unique Binary Search Trees\n",
      "Unique Binary Search Trees II\n",
      "Binary Tree Inorder Traversal\n",
      "Restore IP Addresses\n",
      "Reverse Linked List II\n",
      "Decode Ways\n",
      "Subsets II\n",
      "Gray Code\n",
      "Merge Sorted Array\n",
      "Maximal Rectangle\n",
      "Largest Rectangle in Histogram\n",
      "Remove Duplicates from Sorted List\n",
      "Remove Duplicates from Sorted List II\n",
      "Search in Rotated Sorted Array II\n",
      "Remove Duplicates from Sorted Array II\n",
      "Word Search\n",
      "Subsets\n",
      "Combinations\n",
      "Minimum Window Substring\n",
      "Sort Colors\n",
      "Search a 2D Matrix\n",
      "Set Matrix Zeroes\n",
      "Edit Distance\n",
      "Climbing Stairs\n",
      "Sqrt(x)\n",
      "Add Binary\n",
      "Plus One\n",
      "Valid Number\n",
      "Minimum Path Sum\n",
      "Unique Paths II\n",
      "Unique Paths\n",
      "Rotate List\n",
      "Permutation Sequence\n",
      "Spiral Matrix II\n",
      "Insert Interval\n",
      "Merge Intervals\n",
      "Jump Game\n",
      "Spiral Matrix\n",
      "Maximum Subarray\n",
      "N-Queens II\n",
      "N-Queens\n",
      "Pow(x, n)\n",
      "Group Anagrams\n",
      "Permutations II\n",
      "Permutations\n",
      "Jump Game II\n",
      "Wildcard Matching\n",
      "Multiply Strings\n",
      "Trapping Rain Water\n",
      "First Missing Positive\n",
      "Combination Sum II\n",
      "Combination Sum\n",
      "Count and Say\n",
      "Sudoku Solver\n",
      "Valid Sudoku\n",
      "Search Insert Position\n",
      "Find First and Last Position of Element in Sorted Array\n",
      "Search in Rotated Sorted Array\n",
      "Longest Valid Parentheses\n",
      "Next Permutation\n",
      "Substring with Concatenation of All Words\n",
      "Implement strStr()\n",
      "Remove Element\n",
      "Remove Duplicates from Sorted Array\n",
      "Reverse Nodes in k-Group\n",
      "Swap Nodes in Pairs\n",
      "Merge k Sorted Lists\n",
      "Generate Parentheses\n",
      "Merge Two Sorted Lists\n",
      "Valid Parentheses\n",
      "4Sum\n",
      "Letter Combinations of a Phone Number\n",
      "3Sum Closest\n",
      "3Sum\n",
      "Roman to Integer\n",
      "Integer to Roman\n",
      "Container With Most Water\n",
      "Regular Expression Matching\n",
      "Palindrome Number\n",
      "String to Integer (atoi)\n",
      "Reverse Integer\n",
      "Longest Palindromic Substring\n",
      "Longest Substring Without Repeating Characters\n",
      "Add Two Numbers\n",
      "Two Sum\n"
     ]
    }
   ],
   "source": [
    "# Compute recommender accuracy\n",
    "\n",
    "correct = 0\n",
    "total = len(test)\n",
    "\n",
    "for row in test.iterrows():\n",
    "    question = row[1]['name']\n",
    "    predictions = get_recommendations(question)\n",
    "    actual = test[test['name'] == question].similar_questions.values[0]\n",
    "    if is_correct(actual, predictions):\n",
    "        correct += 1\n",
    "    \n",
    "print"
   ]
  },
  {
   "cell_type": "code",
   "execution_count": 127,
   "metadata": {},
   "outputs": [
    {
     "name": "stdout",
     "output_type": "stream",
     "text": [
      "[(514, 0.8824297696245826), (540, 0.5044195853652891), (274, 0.3624936760324875), (380, 0.3047336093508198)]\n"
     ]
    },
    {
     "data": {
      "text/plain": [
       "True"
      ]
     },
     "execution_count": 127,
     "metadata": {},
     "output_type": "execute_result"
    }
   ],
   "source": [
    "lru = get_recommendations('LRU Cache')\n",
    "real_rec = test[test['name'] == 'LRU Cache'].similar_questions.values[0]\n",
    "is_correct(real_rec, lru)"
   ]
  },
  {
   "cell_type": "code",
   "execution_count": 49,
   "metadata": {},
   "outputs": [
    {
     "name": "stdout",
     "output_type": "stream",
     "text": [
      "[(304, 0.5213717918415742), (45, 0.5161533866980255), (524, 0.5078429714941819), (193, 0.5060583132978923), (205, 0.50590288771497), (36, 0.4960356737870932), (292, 0.4883379519294247), (77, 0.4882137945665164), (736, 0.4856426905190308), (168, 0.4577659503223319), (750, 0.43971029816976254), (260, 0.4244157021945956), (76, 0.42410136913108093), (661, 0.42243786425054497), (171, 0.39570101799859514), (290, 0.3612584630571734), (278, 0.3579812458577154), (137, 0.3419415716160851), (615, 0.337483906920178), (254, 0.3318936282012278), (655, 0.33108996447145117), (763, 0.32915280952351017), (208, 0.3240867894783395), (66, 0.31816205901664557), (770, 0.3115148626416547), (25, 0.3085540592180413), (272, 0.3082564908426478), (303, 0.30806601248342913), (152, 0.3056094344617413), (141, 0.30419009290592164), (71, 0.30398040334396637), (443, 0.30142598648340185)]\n"
     ]
    },
    {
     "data": {
      "text/plain": [
       "['Search in a Binary Search Tree',\n",
       " 'Next Greater Node In Linked List',\n",
       " 'Delete Node in a BST',\n",
       " 'Middle of the Linked List',\n",
       " 'Smallest Subtree with all the Deepest Nodes',\n",
       " 'Recover a Tree From Preorder Traversal',\n",
       " 'Minimum Distance Between BST Nodes',\n",
       " 'Vertical Order Traversal of a Binary Tree',\n",
       " 'Copy List with Random Pointer',\n",
       " 'Increasing Order Search Tree',\n",
       " 'Binary Tree Maximum Path Sum',\n",
       " 'Binary Tree Pruning',\n",
       " 'Smallest String Starting From Leaf',\n",
       " 'Delete Node in a Linked List',\n",
       " 'All Possible Full Binary Trees',\n",
       " 'Is Graph Bipartite?',\n",
       " 'All Paths From Source to Target',\n",
       " 'Minimize Malware Spread II',\n",
       " 'Odd Even Linked List',\n",
       " 'Design Linked List',\n",
       " 'Binary Tree Paths',\n",
       " 'Minimum Depth of Binary Tree',\n",
       " 'All Nodes Distance K in Binary Tree',\n",
       " 'Maximum Binary Tree II',\n",
       " 'Maximum Depth of Binary Tree',\n",
       " 'Binary Search Tree to Greater Sum Tree',\n",
       " 'Find Eventual Safe States',\n",
       " 'Insert into a Binary Search Tree',\n",
       " 'Cat and Mouse',\n",
       " 'Minimize Malware Spread',\n",
       " 'Cousins in Binary Tree',\n",
       " 'Binary Tree Tilt']"
      ]
     },
     "execution_count": 49,
     "metadata": {},
     "output_type": "execute_result"
    }
   ],
   "source": [
    "get_recommendations('Clone Graph')"
   ]
  },
  {
   "cell_type": "code",
   "execution_count": 50,
   "metadata": {},
   "outputs": [
    {
     "name": "stdout",
     "output_type": "stream",
     "text": [
      "[(748, 0.976150580330179)]\n"
     ]
    },
    {
     "data": {
      "text/plain": [
       "['Word Ladder II']"
      ]
     },
     "execution_count": 50,
     "metadata": {},
     "output_type": "execute_result"
    }
   ],
   "source": [
    "get_recommendations('Word Ladder') # with topic-tag"
   ]
  },
  {
   "cell_type": "code",
   "execution_count": 51,
   "metadata": {},
   "outputs": [
    {
     "name": "stdout",
     "output_type": "stream",
     "text": [
      "[]\n"
     ]
    },
    {
     "data": {
      "text/plain": [
       "[]"
      ]
     },
     "execution_count": 51,
     "metadata": {},
     "output_type": "execute_result"
    }
   ],
   "source": [
    "get_recommendations('Minimum Genetic Mutation') # with topic-tag"
   ]
  },
  {
   "cell_type": "code",
   "execution_count": 52,
   "metadata": {},
   "outputs": [
    {
     "name": "stdout",
     "output_type": "stream",
     "text": [
      "[(410, 0.6584319806172336), (185, 0.5247086207255156)]\n"
     ]
    },
    {
     "data": {
      "text/plain": [
       "['Decode Ways II', 'Decoded String at Index']"
      ]
     },
     "execution_count": 52,
     "metadata": {},
     "output_type": "execute_result"
    }
   ],
   "source": [
    "get_recommendations('Decode Ways')"
   ]
  },
  {
   "cell_type": "code",
   "execution_count": 53,
   "metadata": {},
   "outputs": [
    {
     "name": "stdout",
     "output_type": "stream",
     "text": [
      "[(713, 0.66256420987432), (679, 0.44462072400763003), (299, 0.41592689777618674), (858, 0.3872313463838287), (840, 0.36803766108798236), (841, 0.35016395569231873), (856, 0.334000169160927), (632, 0.32132597439105204), (793, 0.3118163756407788)]\n"
     ]
    },
    {
     "data": {
      "text/plain": [
       "['Two Sum II - Input array is sorted',\n",
       " 'Contains Duplicate II',\n",
       " 'Binary Search',\n",
       " '3Sum Closest',\n",
       " 'Find First and Last Position of Element in Sorted Array',\n",
       " 'Search in Rotated Sorted Array',\n",
       " '4Sum',\n",
       " 'Range Sum Query - Immutable',\n",
       " 'Search in Rotated Sorted Array II']"
      ]
     },
     "execution_count": 53,
     "metadata": {},
     "output_type": "execute_result"
    }
   ],
   "source": [
    "get_recommendations('Two Sum')"
   ]
  },
  {
   "cell_type": "code",
   "execution_count": 54,
   "metadata": {},
   "outputs": [
    {
     "name": "stdout",
     "output_type": "stream",
     "text": [
      "[(35, 0.5081588887579545), (486, 0.3842566845728877), (354, 0.3562310725380605), (820, 0.34826750532698403), (310, 0.307367968363666)]\n"
     ]
    },
    {
     "data": {
      "text/plain": [
       "['Matrix Cells in Distance Order',\n",
       " 'Diagonal Traverse',\n",
       " 'Find K-th Smallest Pair Distance',\n",
       " 'Spiral Matrix',\n",
       " 'Toeplitz Matrix']"
      ]
     },
     "execution_count": 54,
     "metadata": {},
     "output_type": "execute_result"
    }
   ],
   "source": [
    "get_recommendations('01 Matrix')"
   ]
  },
  {
   "cell_type": "code",
   "execution_count": null,
   "metadata": {},
   "outputs": [],
   "source": []
  },
  {
   "cell_type": "code",
   "execution_count": null,
   "metadata": {},
   "outputs": [],
   "source": []
  }
 ],
 "metadata": {
  "kernelspec": {
   "display_name": "Python 3",
   "language": "python",
   "name": "python3"
  },
  "language_info": {
   "codemirror_mode": {
    "name": "ipython",
    "version": 3
   },
   "file_extension": ".py",
   "mimetype": "text/x-python",
   "name": "python",
   "nbconvert_exporter": "python",
   "pygments_lexer": "ipython3",
   "version": "3.7.1"
  }
 },
 "nbformat": 4,
 "nbformat_minor": 2
}
