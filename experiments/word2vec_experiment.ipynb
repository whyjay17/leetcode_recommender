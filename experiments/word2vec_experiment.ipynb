{
 "cells": [
  {
   "cell_type": "code",
   "execution_count": 1,
   "metadata": {},
   "outputs": [
    {
     "name": "stderr",
     "output_type": "stream",
     "text": [
      "c:\\users\\yj\\appdata\\local\\programs\\python\\python37\\lib\\site-packages\\smart_open\\smart_open_lib.py:398: UserWarning: This function is deprecated, use smart_open.open instead. See the migration notes for details: https://github.com/RaRe-Technologies/smart_open/blob/master/README.rst#migrating-to-the-new-open-function\n",
      "  'See the migration notes for details: %s' % _MIGRATION_NOTES_URL\n"
     ]
    }
   ],
   "source": [
    "from gensim.models.keyedvectors import KeyedVectors\n",
    "\n",
    "model_path = 'GoogleNews-vectors-negative300.bin.gz'\n",
    "w2v_model = KeyedVectors.load_word2vec_format(model_path, binary=True)"
   ]
  },
  {
   "cell_type": "code",
   "execution_count": 2,
   "metadata": {},
   "outputs": [
    {
     "data": {
      "text/plain": [
       "0.36962923"
      ]
     },
     "execution_count": 2,
     "metadata": {},
     "output_type": "execute_result"
    }
   ],
   "source": [
    "w2v_model.similarity('male', 'man')"
   ]
  },
  {
   "cell_type": "code",
   "execution_count": 3,
   "metadata": {},
   "outputs": [
    {
     "data": {
      "text/plain": [
       "0.19673139"
      ]
     },
     "execution_count": 3,
     "metadata": {},
     "output_type": "execute_result"
    }
   ],
   "source": [
    "w2v_model.n_similarity(['coding', 'interview'], ['job', 'searching'])"
   ]
  },
  {
   "cell_type": "code",
   "execution_count": 4,
   "metadata": {},
   "outputs": [],
   "source": [
    "import sys\n",
    "sys.path.append('../')\n",
    "from QuestionMatcher import QuestionMatcher\n",
    "\n",
    "qm = QuestionMatcher(w2v_model)"
   ]
  },
  {
   "cell_type": "code",
   "execution_count": 5,
   "metadata": {},
   "outputs": [
    {
     "name": "stdout",
     "output_type": "stream",
     "text": [
      "0.77277756\n"
     ]
    }
   ],
   "source": [
    "source_doc = 'I am ready to sleep now'\n",
    "target_docs = 'I plan to go to bed now'\n",
    "# This will return 3 target docs with similarity score\n",
    "sim_scores = qm.get_similarity(source_doc, target_docs)\n",
    "\n",
    "print(sim_scores)"
   ]
  },
  {
   "cell_type": "code",
   "execution_count": 16,
   "metadata": {
    "scrolled": true
   },
   "outputs": [
    {
     "name": "stdout",
     "output_type": "stream",
     "text": [
      "[{'name': '1', 'content': 'delete a invoice', 'score': 0.8719141}, {'name': '2', 'content': 'how do i remove an invoice', 'score': 0.83031255}, {'name': '3', 'content': 'purge an invoice', 'score': 0.7387663}]\n"
     ]
    }
   ],
   "source": [
    "source_doc = 'how to delete an invoice'\n",
    "target_docs = [('1', 'delete a invoice'), ('2', 'how do i remove an invoice'), ('3' ,'purge an invoice')]\n",
    "sim_scores = qm.get_recommendations(source_doc, target_docs)\n",
    "\n",
    "print(sim_scores)"
   ]
  },
  {
   "cell_type": "code",
   "execution_count": 17,
   "metadata": {},
   "outputs": [],
   "source": [
    "import pandas as pd\n",
    "# Load Movies Metadata\n",
    "data = pd.read_csv('../data/leetcode_data_processed_topics3.csv', low_memory=False)\n",
    "test = pd.read_csv('../data/leetcode_labels.csv', low_memory=False)"
   ]
  },
  {
   "cell_type": "code",
   "execution_count": 18,
   "metadata": {},
   "outputs": [],
   "source": [
    "def is_correct(predictions, actual):\n",
    "    # if there is an overlap, return True\n",
    "    return not set(predictions).isdisjoint(actual)"
   ]
  },
  {
   "cell_type": "code",
   "execution_count": 26,
   "metadata": {},
   "outputs": [],
   "source": [
    "target_docs = []\n",
    "for index, row in data.iterrows():\n",
    "    target_docs.append((row['name'], row['content']))"
   ]
  },
  {
   "cell_type": "code",
   "execution_count": 62,
   "metadata": {},
   "outputs": [],
   "source": [
    "recs = {}\n",
    "\n",
    "for index, row in data.iterrows():\n",
    "    recs[row['name']] = qm.get_recommendations(row['content'], target_docs, 0.70)"
   ]
  },
  {
   "cell_type": "code",
   "execution_count": null,
   "metadata": {},
   "outputs": [],
   "source": [
    "recs['Merge Intervals']"
   ]
  },
  {
   "cell_type": "code",
   "execution_count": 63,
   "metadata": {},
   "outputs": [],
   "source": [
    "import ast"
   ]
  },
  {
   "cell_type": "code",
   "execution_count": 64,
   "metadata": {},
   "outputs": [
    {
     "name": "stdout",
     "output_type": "stream",
     "text": [
      "Correct = 333, Total = 485, Acc = 0.6865979381443299\n"
     ]
    }
   ],
   "source": [
    "# Compute recommender accuracy\n",
    "\n",
    "correct = 0\n",
    "total = len(test)\n",
    "\n",
    "for row in test.iterrows():\n",
    "    question = row[1]['name']\n",
    "    predictions = [obj['name'] for obj in recs[question] if obj['name'] != question]\n",
    "    #print('Pred', predictions)\n",
    "    actual = test[test['name'] == question].similar_questions.values[0]\n",
    "    actual = ast.literal_eval(actual)\n",
    "    if is_correct(actual, predictions):\n",
    "        correct += 1\n",
    "\n",
    "print('Correct = {}, Total = {}, Acc = {}'.format(correct, total, float(correct / total)))"
   ]
  },
  {
   "cell_type": "code",
   "execution_count": 50,
   "metadata": {},
   "outputs": [],
   "source": [
    "assert(is_correct([1,2,3], [3,4,5]) == True)\n",
    "assert(is_correct(['a', 'b', 'c'], ['c', 'd', 'e']) == True)\n",
    "assert(is_correct(['a', 'b', 'c'], ['x', 'd', 'e']) == False)\n",
    "\n",
    "list_a = ['Design Circular Queue', 'Binary Search Tree Iterator', 'Insert Delete GetRandom O(1)', 'Implement Queue using Stacks', 'Peeking Iterator', 'Implement Stack using Queues', 'LRU Cache', 'Stream of Characters', 'LFU Cache', 'Remove Duplicates from Sorted Array', 'Remove Duplicates from Sorted Array II', 'Remove Element', 'My Calendar III', 'Increasing Triplet Subsequence', 'My Calendar I']\n",
    "list_b = ['Design Circular Queue']\n",
    "assert(is_correct(list_a, list_b) == True)"
   ]
  },
  {
   "cell_type": "code",
   "execution_count": 75,
   "metadata": {},
   "outputs": [],
   "source": [
    "source = data[data['name'] == 'Longest Increasing Subsequence']['content'].values[0]"
   ]
  }
 ],
 "metadata": {
  "kernelspec": {
   "display_name": "Python 3",
   "language": "python",
   "name": "python3"
  },
  "language_info": {
   "codemirror_mode": {
    "name": "ipython",
    "version": 3
   },
   "file_extension": ".py",
   "mimetype": "text/x-python",
   "name": "python",
   "nbconvert_exporter": "python",
   "pygments_lexer": "ipython3",
   "version": "3.7.2"
  }
 },
 "nbformat": 4,
 "nbformat_minor": 2
}
