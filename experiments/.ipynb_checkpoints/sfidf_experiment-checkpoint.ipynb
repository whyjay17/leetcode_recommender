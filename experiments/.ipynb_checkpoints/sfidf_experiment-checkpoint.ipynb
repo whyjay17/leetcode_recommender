{
 "cells": [
  {
   "cell_type": "code",
   "execution_count": 1,
   "metadata": {},
   "outputs": [],
   "source": [
    "import pandas as pd\n",
    "# Import TfIdfVectorizer from scikit-learn\n",
    "from sklearn.feature_extraction.text import TfidfVectorizer\n",
    "from sklearn.metrics.pairwise import linear_kernel"
   ]
  },
  {
   "cell_type": "code",
   "execution_count": 19,
   "metadata": {},
   "outputs": [],
   "source": [
    "# Load Movies Metadata\n",
    "data = pd.read_csv('../data/leetcode_data_processed_synset2.csv', low_memory=False)"
   ]
  },
  {
   "cell_type": "code",
   "execution_count": 20,
   "metadata": {},
   "outputs": [],
   "source": [
    "data['content'] = data['content'].astype(str)\n",
    "data['content'] = data['content'].apply(lambda x: x.replace('[','').replace(']',''))"
   ]
  },
  {
   "cell_type": "code",
   "execution_count": 21,
   "metadata": {},
   "outputs": [],
   "source": [
    "def synset_tokenizer(doc):\n",
    "    return doc.split(',')"
   ]
  },
  {
   "cell_type": "code",
   "execution_count": 22,
   "metadata": {},
   "outputs": [
    {
     "data": {
      "text/plain": [
       "(874, 11327)"
      ]
     },
     "execution_count": 22,
     "metadata": {},
     "output_type": "execute_result"
    }
   ],
   "source": [
    "sfidf = TfidfVectorizer(tokenizer = synset_tokenizer)\n",
    "sfidf_matrix = sfidf.fit_transform(data['content'])\n",
    "sfidf_matrix.shape"
   ]
  },
  {
   "cell_type": "code",
   "execution_count": null,
   "metadata": {},
   "outputs": [],
   "source": []
  },
  {
   "cell_type": "code",
   "execution_count": 23,
   "metadata": {},
   "outputs": [],
   "source": [
    "# Compute the cosine similarity matrix\n",
    "cosine_sim = linear_kernel(sfidf_matrix, sfidf_matrix)\n",
    "\n",
    "#Construct a reverse map of indices and movie titles\n",
    "indices = pd.Series(data.index, index=data['name']).drop_duplicates()\n",
    "idx = pd.Series(data.index, index=data['name']).drop_duplicates()"
   ]
  },
  {
   "cell_type": "code",
   "execution_count": 10,
   "metadata": {},
   "outputs": [
    {
     "data": {
      "text/plain": [
       "name\n",
       "Shortest Path in Binary Matrix    0\n",
       "Shortest Common Supersequence     1\n",
       "Largest Values From Labels        2\n",
       "dtype: int64"
      ]
     },
     "execution_count": 10,
     "metadata": {},
     "output_type": "execute_result"
    }
   ],
   "source": [
    "idx[:3]"
   ]
  },
  {
   "cell_type": "code",
   "execution_count": 11,
   "metadata": {},
   "outputs": [],
   "source": [
    "def get_recommendations(title, cosine_sim=cosine_sim):\n",
    "    # get the idx of the movie that matches the title\n",
    "    movie_idx = idx[title]\n",
    "    # get the pairwise similarity scores with that movie\n",
    "    sim_scores = list(enumerate(cosine_sim[movie_idx]))\n",
    "    # sort\n",
    "    sim_scores = sorted(sim_scores, key=lambda x: x[1], reverse=True)\n",
    "    sim_scores = sim_scores[1:11]\n",
    "    res_idx = [i[0] for i in sim_scores]\n",
    "    \n",
    "    return data['name'].iloc[res_idx]"
   ]
  },
  {
   "cell_type": "code",
   "execution_count": 12,
   "metadata": {},
   "outputs": [
    {
     "data": {
      "text/plain": [
       "514                       LFU Cache\n",
       "540        All O`one Data Structure\n",
       "380                   Map Sum Pairs\n",
       "274                  Design HashMap\n",
       "459     Convert BST to Greater Tree\n",
       "524            Delete Node in a BST\n",
       "83       Time Based Key-Value Store\n",
       "230                  Keys and Rooms\n",
       "130                   Knight Dialer\n",
       "581    Insert Delete GetRandom O(1)\n",
       "Name: name, dtype: object"
      ]
     },
     "execution_count": 12,
     "metadata": {},
     "output_type": "execute_result"
    }
   ],
   "source": [
    "get_recommendations('LRU Cache')"
   ]
  },
  {
   "cell_type": "code",
   "execution_count": 13,
   "metadata": {},
   "outputs": [
    {
     "data": {
      "text/plain": [
       "728                          LRU Cache\n",
       "540           All O`one Data Structure\n",
       "380                      Map Sum Pairs\n",
       "274                     Design HashMap\n",
       "459        Convert BST to Greater Tree\n",
       "524               Delete Node in a BST\n",
       "230                     Keys and Rooms\n",
       "130                      Knight Dialer\n",
       "83          Time Based Key-Value Store\n",
       "484    Find Mode in Binary Search Tree\n",
       "Name: name, dtype: object"
      ]
     },
     "execution_count": 13,
     "metadata": {},
     "output_type": "execute_result"
    }
   ],
   "source": [
    "get_recommendations('LFU Cache')"
   ]
  },
  {
   "cell_type": "code",
   "execution_count": 14,
   "metadata": {},
   "outputs": [
    {
     "data": {
      "text/plain": [
       "853                       Merge Two Sorted Lists\n",
       "855             Remove Nth Node From End of List\n",
       "254                           Design Linked List\n",
       "727                          Insertion Sort List\n",
       "12                              Distant Barcodes\n",
       "32                          Stream of Characters\n",
       "87                     Squares of a Sorted Array\n",
       "301              Kth Largest Element in a Stream\n",
       "765    Convert Sorted List to Binary Search Tree\n",
       "257                       Linked List Components\n",
       "Name: name, dtype: object"
      ]
     },
     "execution_count": 14,
     "metadata": {},
     "output_type": "execute_result"
    }
   ],
   "source": [
    "get_recommendations('Merge k Sorted Lists')"
   ]
  },
  {
   "cell_type": "code",
   "execution_count": 15,
   "metadata": {},
   "outputs": [
    {
     "data": {
      "text/plain": [
       "486                          Diagonal Traverse\n",
       "815                           Spiral Matrix II\n",
       "310                            Toeplitz Matrix\n",
       "582    Kth Smallest Element in a Sorted Matrix\n",
       "826                               Rotate Image\n",
       "593      Max Sum of Rectangle No Larger Than K\n",
       "301            Kth Largest Element in a Stream\n",
       "160                       Sort Array By Parity\n",
       "440                         Reshape the Matrix\n",
       "455                                  01 Matrix\n",
       "Name: name, dtype: object"
      ]
     },
     "execution_count": 15,
     "metadata": {},
     "output_type": "execute_result"
    }
   ],
   "source": [
    "get_recommendations('Spiral Matrix')"
   ]
  },
  {
   "cell_type": "code",
   "execution_count": 16,
   "metadata": {},
   "outputs": [
    {
     "data": {
      "text/plain": [
       "410                            Decode Ways II\n",
       "185                   Decoded String at Index\n",
       "656                             Valid Anagram\n",
       "498                            Magical String\n",
       "148                      Reverse Only Letters\n",
       "122             Find the Shortest Superstring\n",
       "322                     Special Binary String\n",
       "508    Unique Substrings in Wraparound String\n",
       "759                     Distinct Subsequences\n",
       "657         Different Ways to Add Parentheses\n",
       "Name: name, dtype: object"
      ]
     },
     "execution_count": 16,
     "metadata": {},
     "output_type": "execute_result"
    }
   ],
   "source": [
    "get_recommendations('Decode Ways')"
   ]
  },
  {
   "cell_type": "code",
   "execution_count": 17,
   "metadata": {},
   "outputs": [
    {
     "data": {
      "text/plain": [
       "713    Two Sum II - Input array is sorted\n",
       "839                Search Insert Position\n",
       "299                         Binary Search\n",
       "690          Implement Trie (Prefix Tree)\n",
       "708           Binary Search Tree Iterator\n",
       "301       Kth Largest Element in a Stream\n",
       "32                   Stream of Characters\n",
       "574    First Unique Character in a String\n",
       "563                     Random Pick Index\n",
       "160                  Sort Array By Parity\n",
       "Name: name, dtype: object"
      ]
     },
     "execution_count": 17,
     "metadata": {},
     "output_type": "execute_result"
    }
   ],
   "source": [
    "get_recommendations('Two Sum')"
   ]
  },
  {
   "cell_type": "code",
   "execution_count": 18,
   "metadata": {},
   "outputs": [
    {
     "data": {
      "text/plain": [
       "35               Matrix Cells in Distance Order\n",
       "354            Find K-th Smallest Pair Distance\n",
       "486                           Diagonal Traverse\n",
       "593       Max Sum of Rectangle No Larger Than K\n",
       "820                               Spiral Matrix\n",
       "11     Number of Submatrices That Sum to Target\n",
       "310                             Toeplitz Matrix\n",
       "501                      Total Hamming Distance\n",
       "557                          Sum of Left Leaves\n",
       "800                          Search a 2D Matrix\n",
       "Name: name, dtype: object"
      ]
     },
     "execution_count": 18,
     "metadata": {},
     "output_type": "execute_result"
    }
   ],
   "source": [
    "get_recommendations('01 Matrix')"
   ]
  },
  {
   "cell_type": "code",
   "execution_count": null,
   "metadata": {},
   "outputs": [],
   "source": []
  }
 ],
 "metadata": {
  "kernelspec": {
   "display_name": "Python 3",
   "language": "python",
   "name": "python3"
  },
  "language_info": {
   "codemirror_mode": {
    "name": "ipython",
    "version": 3
   },
   "file_extension": ".py",
   "mimetype": "text/x-python",
   "name": "python",
   "nbconvert_exporter": "python",
   "pygments_lexer": "ipython3",
   "version": "3.7.1"
  }
 },
 "nbformat": 4,
 "nbformat_minor": 2
}
