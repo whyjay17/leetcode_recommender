{
 "cells": [
  {
   "cell_type": "code",
   "execution_count": 1,
   "metadata": {},
   "outputs": [],
   "source": [
    "import pandas as pd\n",
    "# Import TfIdfVectorizer from scikit-learn\n",
    "from sklearn.feature_extraction.text import TfidfVectorizer\n",
    "from sklearn.metrics.pairwise import linear_kernel"
   ]
  },
  {
   "cell_type": "code",
   "execution_count": 2,
   "metadata": {},
   "outputs": [],
   "source": [
    "# Load Movies Metadata\n",
    "data = pd.read_csv('../data/leetcode_data_processed_topics.csv', low_memory=False)"
   ]
  },
  {
   "cell_type": "code",
   "execution_count": 3,
   "metadata": {},
   "outputs": [
    {
     "data": {
      "text/plain": [
       "(874, 2874)"
      ]
     },
     "execution_count": 3,
     "metadata": {},
     "output_type": "execute_result"
    }
   ],
   "source": [
    "tfidf = TfidfVectorizer(stop_words='english')\n",
    "data['content'] = data['content'].fillna('')\n",
    "tfidf_matrix = tfidf.fit_transform(data['content'])\n",
    "tfidf_matrix.shape"
   ]
  },
  {
   "cell_type": "code",
   "execution_count": 4,
   "metadata": {},
   "outputs": [
    {
     "data": {
      "text/plain": [
       "\"['given', 'two', 'strings', 'shortest', 'string', 'multiple', 'answers', 'may', 'return', 'string', 's', 'subsequence', 'string', 't', 'deleting', 'number', 'characters', 't', 'characters', 'chosen', 'anywhere', 'results', 'string', 'substring', 'delete', 'first', 'substring', 'delete', 'last', 'the', 'answer', 'provided', 'shortest', 'string', 'satisfies', 'consist', 'lowercase', 'english', 'dynamic programming']\""
      ]
     },
     "execution_count": 4,
     "metadata": {},
     "output_type": "execute_result"
    }
   ],
   "source": [
    "data['content'][1]"
   ]
  },
  {
   "cell_type": "code",
   "execution_count": 5,
   "metadata": {},
   "outputs": [],
   "source": [
    "# Compute the cosine similarity matrix\n",
    "cosine_sim = linear_kernel(tfidf_matrix, tfidf_matrix)\n",
    "\n",
    "#Construct a reverse map of indices and movie titles\n",
    "indices = pd.Series(data.index, index=data['name']).drop_duplicates()\n",
    "idx = pd.Series(data.index, index=data['name']).drop_duplicates()"
   ]
  },
  {
   "cell_type": "code",
   "execution_count": 6,
   "metadata": {},
   "outputs": [
    {
     "data": {
      "text/plain": [
       "name\n",
       "Shortest Path in Binary Matrix    0\n",
       "Shortest Common Supersequence     1\n",
       "Largest Values From Labels        2\n",
       "dtype: int64"
      ]
     },
     "execution_count": 6,
     "metadata": {},
     "output_type": "execute_result"
    }
   ],
   "source": [
    "idx[:3]"
   ]
  },
  {
   "cell_type": "code",
   "execution_count": 7,
   "metadata": {},
   "outputs": [],
   "source": [
    "def get_recommendations(title, cosine_sim=cosine_sim):\n",
    "    # get the idx of the movie that matches the title\n",
    "    movie_idx = idx[title]\n",
    "    # get the pairwise similarity scores with that movie\n",
    "    sim_scores = list(enumerate(cosine_sim[movie_idx]))\n",
    "    # sort\n",
    "    sim_scores = sorted(sim_scores, key=lambda x: x[1], reverse=True)\n",
    "    sim_scores = sim_scores[1:11]\n",
    "    res_idx = [i[0] for i in sim_scores]\n",
    "    \n",
    "    return data['name'].iloc[res_idx]"
   ]
  },
  {
   "cell_type": "code",
   "execution_count": 8,
   "metadata": {},
   "outputs": [
    {
     "data": {
      "text/plain": [
       "514                       LFU Cache\n",
       "540        All O`one Data Structure\n",
       "274                  Design HashMap\n",
       "380                   Map Sum Pairs\n",
       "275                  Design HashSet\n",
       "581    Insert Delete GetRandom O(1)\n",
       "690    Implement Trie (Prefix Tree)\n",
       "642                Peeking Iterator\n",
       "459     Convert BST to Greater Tree\n",
       "719                       Min Stack\n",
       "Name: name, dtype: object"
      ]
     },
     "execution_count": 8,
     "metadata": {},
     "output_type": "execute_result"
    }
   ],
   "source": [
    "get_recommendations('LRU Cache')"
   ]
  },
  {
   "cell_type": "code",
   "execution_count": 9,
   "metadata": {},
   "outputs": [
    {
     "data": {
      "text/plain": [
       "728                       LRU Cache\n",
       "540        All O`one Data Structure\n",
       "274                  Design HashMap\n",
       "380                   Map Sum Pairs\n",
       "275                  Design HashSet\n",
       "581    Insert Delete GetRandom O(1)\n",
       "690    Implement Trie (Prefix Tree)\n",
       "459     Convert BST to Greater Tree\n",
       "719                       Min Stack\n",
       "83       Time Based Key-Value Store\n",
       "Name: name, dtype: object"
      ]
     },
     "execution_count": 9,
     "metadata": {},
     "output_type": "execute_result"
    }
   ],
   "source": [
    "get_recommendations('LFU Cache')"
   ]
  },
  {
   "cell_type": "code",
   "execution_count": 10,
   "metadata": {},
   "outputs": [
    {
     "data": {
      "text/plain": [
       "853                   Merge Two Sorted Lists\n",
       "791       Remove Duplicates from Sorted List\n",
       "254                       Design Linked List\n",
       "855         Remove Nth Node From End of List\n",
       "782                   Reverse Linked List II\n",
       "792    Remove Duplicates from Sorted List II\n",
       "257                   Linked List Components\n",
       "529                       Add Two Numbers II\n",
       "872                          Add Two Numbers\n",
       "695              Remove Linked List Elements\n",
       "Name: name, dtype: object"
      ]
     },
     "execution_count": 10,
     "metadata": {},
     "output_type": "execute_result"
    }
   ],
   "source": [
    "get_recommendations('Merge k Sorted Lists')"
   ]
  },
  {
   "cell_type": "code",
   "execution_count": 11,
   "metadata": {},
   "outputs": [
    {
     "data": {
      "text/plain": [
       "486                        Diagonal Traverse\n",
       "815                         Spiral Matrix II\n",
       "310                          Toeplitz Matrix\n",
       "826                             Rotate Image\n",
       "440                       Reshape the Matrix\n",
       "593    Max Sum of Rectangle No Larger Than K\n",
       "631           Range Sum Query 2D - Immutable\n",
       "800                       Search a 2D Matrix\n",
       "455                                01 Matrix\n",
       "160                     Sort Array By Parity\n",
       "Name: name, dtype: object"
      ]
     },
     "execution_count": 11,
     "metadata": {},
     "output_type": "execute_result"
    }
   ],
   "source": [
    "get_recommendations('Spiral Matrix')"
   ]
  },
  {
   "cell_type": "code",
   "execution_count": 12,
   "metadata": {},
   "outputs": [
    {
     "data": {
      "text/plain": [
       "410                            Decode Ways II\n",
       "185                   Decoded String at Index\n",
       "576                               Mini Parser\n",
       "677                            Maximal Square\n",
       "122             Find the Shortest Superstring\n",
       "148                      Reverse Only Letters\n",
       "854                         Valid Parentheses\n",
       "789                         Maximal Rectangle\n",
       "508    Unique Substrings in Wraparound String\n",
       "567                             Decode String\n",
       "Name: name, dtype: object"
      ]
     },
     "execution_count": 12,
     "metadata": {},
     "output_type": "execute_result"
    }
   ],
   "source": [
    "get_recommendations('Decode Ways')"
   ]
  },
  {
   "cell_type": "code",
   "execution_count": 13,
   "metadata": {},
   "outputs": [
    {
     "data": {
      "text/plain": [
       "713                   Two Sum II - Input array is sorted\n",
       "679                                Contains Duplicate II\n",
       "299                                        Binary Search\n",
       "858                                         3Sum Closest\n",
       "840    Find First and Last Position of Element in Sor...\n",
       "841                       Search in Rotated Sorted Array\n",
       "856                                                 4Sum\n",
       "632                          Range Sum Query - Immutable\n",
       "793                    Search in Rotated Sorted Array II\n",
       "600                              Top K Frequent Elements\n",
       "Name: name, dtype: object"
      ]
     },
     "execution_count": 13,
     "metadata": {},
     "output_type": "execute_result"
    }
   ],
   "source": [
    "get_recommendations('Two Sum')"
   ]
  },
  {
   "cell_type": "code",
   "execution_count": null,
   "metadata": {},
   "outputs": [],
   "source": [
    "get_recommendations('Two Sum')"
   ]
  }
 ],
 "metadata": {
  "kernelspec": {
   "display_name": "Python 3",
   "language": "python",
   "name": "python3"
  },
  "language_info": {
   "codemirror_mode": {
    "name": "ipython",
    "version": 3
   },
   "file_extension": ".py",
   "mimetype": "text/x-python",
   "name": "python",
   "nbconvert_exporter": "python",
   "pygments_lexer": "ipython3",
   "version": "3.7.1"
  }
 },
 "nbformat": 4,
 "nbformat_minor": 2
}
