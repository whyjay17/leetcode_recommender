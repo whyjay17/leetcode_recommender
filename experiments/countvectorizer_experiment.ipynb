{
 "cells": [
  {
   "cell_type": "code",
   "execution_count": 10,
   "metadata": {},
   "outputs": [],
   "source": [
    "import pandas as pd\n",
    "# Import TfIdfVectorizer from scikit-learn\n",
    "from sklearn.feature_extraction.text import TfidfVectorizer, CountVectorizer\n",
    "from sklearn.metrics.pairwise import cosine_similarity"
   ]
  },
  {
   "cell_type": "code",
   "execution_count": 2,
   "metadata": {},
   "outputs": [],
   "source": [
    "# Load Movies Metadata\n",
    "data = pd.read_csv('../leetcode_data_processed.csv', low_memory=False)"
   ]
  },
  {
   "cell_type": "code",
   "execution_count": 5,
   "metadata": {},
   "outputs": [
    {
     "data": {
      "text/plain": [
       "(874, 2858)"
      ]
     },
     "execution_count": 5,
     "metadata": {},
     "output_type": "execute_result"
    }
   ],
   "source": [
    "count_vec = CountVectorizer(stop_words='english')\n",
    "data['content'] = data['content'].fillna('')\n",
    "count_mat = count_vec.fit_transform(data['content'])\n",
    "count_mat.shape"
   ]
  },
  {
   "cell_type": "code",
   "execution_count": 7,
   "metadata": {},
   "outputs": [
    {
     "data": {
      "text/plain": [
       "\"['Given', 'two', 'strings', 'shortest', 'string', 'multiple', 'answers', 'may', 'return', 'string', 'S', 'subsequence', 'string', 'T', 'deleting', 'number', 'characters', 'T', 'characters', 'chosen', 'anywhere', 'results', 'string', 'Example', 'substring', 'delete', 'first', 'substring', 'delete', 'last', 'The', 'answer', 'provided', 'shortest', 'string', 'satisfies', 'consist', 'lowercase', 'English']\""
      ]
     },
     "execution_count": 7,
     "metadata": {},
     "output_type": "execute_result"
    }
   ],
   "source": [
    "data['content'][1]"
   ]
  },
  {
   "cell_type": "code",
   "execution_count": 21,
   "metadata": {},
   "outputs": [],
   "source": [
    "# generating the cosine similarity matrix\n",
    "cosine_sim = cosine_similarity(count_mat, count_mat)\n",
    "\n",
    "#Construct a reverse map of indices and movie titles\n",
    "indices = pd.Series(data.index, index=data['name']).drop_duplicates()\n",
    "idx = pd.Series(data.index, index=data['name']).drop_duplicates()\n",
    "\n"
   ]
  },
  {
   "cell_type": "code",
   "execution_count": 22,
   "metadata": {},
   "outputs": [
    {
     "data": {
      "text/plain": [
       "array([[1.        , 0.12615514, 0.1768919 , ..., 0.32699929, 0.06280743,\n",
       "        0.14322297],\n",
       "       [0.12615514, 1.        , 0.12087737, ..., 0.21068313, 0.07725393,\n",
       "        0.11744404],\n",
       "       [0.1768919 , 0.12087737, 1.        , ..., 0.16113553, 0.03610791,\n",
       "        0.04116935],\n",
       "       ...,\n",
       "       [0.32699929, 0.21068313, 0.16113553, ..., 1.        , 0.02860648,\n",
       "        0.06523281],\n",
       "       [0.06280743, 0.07725393, 0.03610791, ..., 0.02860648, 1.        ,\n",
       "        0.35082321],\n",
       "       [0.14322297, 0.11744404, 0.04116935, ..., 0.06523281, 0.35082321,\n",
       "        1.        ]])"
      ]
     },
     "execution_count": 22,
     "metadata": {},
     "output_type": "execute_result"
    }
   ],
   "source": [
    "cosine_sim"
   ]
  },
  {
   "cell_type": "code",
   "execution_count": 23,
   "metadata": {},
   "outputs": [],
   "source": [
    "def get_recommendations(title, cosine_sim=cosine_sim):\n",
    "    # get the idx of the movie that matches the title\n",
    "    movie_idx = idx[title]\n",
    "    # get the pairwise similarity scores with that movie\n",
    "    sim_scores = list(enumerate(cosine_sim[movie_idx]))\n",
    "    # sort\n",
    "    sim_scores = sorted(sim_scores, key=lambda x: x[1], reverse=True)\n",
    "    sim_scores = sim_scores[1:11]\n",
    "    res_idx = [i[0] for i in sim_scores]\n",
    "    \n",
    "    return data['name'].iloc[res_idx]"
   ]
  },
  {
   "cell_type": "code",
   "execution_count": 24,
   "metadata": {},
   "outputs": [
    {
     "data": {
      "text/plain": [
       "514                                            LFU Cache\n",
       "540                             All O`one Data Structure\n",
       "274                                       Design HashMap\n",
       "275                                       Design HashSet\n",
       "581                         Insert Delete GetRandom O(1)\n",
       "690                         Implement Trie (Prefix Tree)\n",
       "343                                      My Calendar III\n",
       "83                            Time Based Key-Value Store\n",
       "380                                        Map Sum Pairs\n",
       "580    Insert Delete GetRandom O(1) - Duplicates allowed\n",
       "Name: name, dtype: object"
      ]
     },
     "execution_count": 24,
     "metadata": {},
     "output_type": "execute_result"
    }
   ],
   "source": [
    "get_recommendations('LRU Cache')"
   ]
  },
  {
   "cell_type": "code",
   "execution_count": 25,
   "metadata": {},
   "outputs": [
    {
     "data": {
      "text/plain": [
       "728                          LRU Cache\n",
       "540           All O`one Data Structure\n",
       "274                     Design HashMap\n",
       "275                     Design HashSet\n",
       "581       Insert Delete GetRandom O(1)\n",
       "690       Implement Trie (Prefix Tree)\n",
       "343                    My Calendar III\n",
       "83          Time Based Key-Value Store\n",
       "301    Kth Largest Element in a Stream\n",
       "380                      Map Sum Pairs\n",
       "Name: name, dtype: object"
      ]
     },
     "execution_count": 25,
     "metadata": {},
     "output_type": "execute_result"
    }
   ],
   "source": [
    "get_recommendations('LFU Cache')"
   ]
  },
  {
   "cell_type": "code",
   "execution_count": 26,
   "metadata": {},
   "outputs": [
    {
     "data": {
      "text/plain": [
       "853                       Merge Two Sorted Lists\n",
       "786                           Merge Sorted Array\n",
       "87                     Squares of a Sorted Array\n",
       "289                 K-th Smallest Prime Fraction\n",
       "765    Convert Sorted List to Binary Search Tree\n",
       "791           Remove Duplicates from Sorted List\n",
       "529                           Add Two Numbers II\n",
       "582      Kth Smallest Element in a Sorted Matrix\n",
       "708                  Binary Search Tree Iterator\n",
       "32                          Stream of Characters\n",
       "Name: name, dtype: object"
      ]
     },
     "execution_count": 26,
     "metadata": {},
     "output_type": "execute_result"
    }
   ],
   "source": [
    "get_recommendations('Merge k Sorted Lists')"
   ]
  },
  {
   "cell_type": "code",
   "execution_count": null,
   "metadata": {},
   "outputs": [],
   "source": []
  }
 ],
 "metadata": {
  "kernelspec": {
   "display_name": "Python 3",
   "language": "python",
   "name": "python3"
  },
  "language_info": {
   "codemirror_mode": {
    "name": "ipython",
    "version": 3
   },
   "file_extension": ".py",
   "mimetype": "text/x-python",
   "name": "python",
   "nbconvert_exporter": "python",
   "pygments_lexer": "ipython3",
   "version": "3.7.1"
  }
 },
 "nbformat": 4,
 "nbformat_minor": 2
}
