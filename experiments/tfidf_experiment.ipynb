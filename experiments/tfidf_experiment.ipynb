{
 "cells": [
  {
   "cell_type": "code",
   "execution_count": 1,
   "metadata": {},
   "outputs": [],
   "source": [
    "import pandas as pd\n",
    "# Import TfIdfVectorizer from scikit-learn\n",
    "from sklearn.feature_extraction.text import TfidfVectorizer\n",
    "from sklearn.metrics.pairwise import linear_kernel"
   ]
  },
  {
   "cell_type": "code",
   "execution_count": 2,
   "metadata": {},
   "outputs": [],
   "source": [
    "# Load Movies Metadata\n",
    "data = pd.read_csv('../leetcode_data_processed.csv', low_memory=False)"
   ]
  },
  {
   "cell_type": "code",
   "execution_count": 3,
   "metadata": {},
   "outputs": [
    {
     "data": {
      "text/plain": [
       "(874, 2858)"
      ]
     },
     "execution_count": 3,
     "metadata": {},
     "output_type": "execute_result"
    }
   ],
   "source": [
    "tfidf = TfidfVectorizer(stop_words='english')\n",
    "data['content'] = data['content'].fillna('')\n",
    "tfidf_matrix = tfidf.fit_transform(data['content'])\n",
    "tfidf_matrix.shape"
   ]
  },
  {
   "cell_type": "code",
   "execution_count": 15,
   "metadata": {},
   "outputs": [
    {
     "data": {
      "text/plain": [
       "\"['Given', 'two', 'strings', 'shortest', 'string', 'multiple', 'answers', 'may', 'return', 'string', 'S', 'subsequence', 'string', 'T', 'deleting', 'number', 'characters', 'T', 'characters', 'chosen', 'anywhere', 'results', 'string', 'Example', 'substring', 'delete', 'first', 'substring', 'delete', 'last', 'The', 'answer', 'provided', 'shortest', 'string', 'satisfies', 'consist', 'lowercase', 'English']\""
      ]
     },
     "execution_count": 15,
     "metadata": {},
     "output_type": "execute_result"
    }
   ],
   "source": [
    "data['content'][1]"
   ]
  },
  {
   "cell_type": "code",
   "execution_count": 6,
   "metadata": {},
   "outputs": [],
   "source": [
    "# Compute the cosine similarity matrix\n",
    "cosine_sim = linear_kernel(tfidf_matrix, tfidf_matrix)\n",
    "\n",
    "#Construct a reverse map of indices and movie titles\n",
    "indices = pd.Series(data.index, index=data['name']).drop_duplicates()\n",
    "idx = pd.Series(data.index, index=data['name']).drop_duplicates()"
   ]
  },
  {
   "cell_type": "code",
   "execution_count": 7,
   "metadata": {},
   "outputs": [
    {
     "data": {
      "text/plain": [
       "name\n",
       "Shortest Path in Binary Matrix    0\n",
       "Shortest Common Supersequence     1\n",
       "Largest Values From Labels        2\n",
       "dtype: int64"
      ]
     },
     "execution_count": 7,
     "metadata": {},
     "output_type": "execute_result"
    }
   ],
   "source": [
    "idx[:3]"
   ]
  },
  {
   "cell_type": "code",
   "execution_count": 8,
   "metadata": {},
   "outputs": [],
   "source": [
    "def get_recommendations(title, cosine_sim=cosine_sim):\n",
    "    # get the idx of the movie that matches the title\n",
    "    movie_idx = idx[title]\n",
    "    # get the pairwise similarity scores with that movie\n",
    "    sim_scores = list(enumerate(cosine_sim[movie_idx]))\n",
    "    # sort\n",
    "    sim_scores = sorted(sim_scores, key=lambda x: x[1], reverse=True)\n",
    "    sim_scores = sim_scores[1:11]\n",
    "    res_idx = [i[0] for i in sim_scores]\n",
    "    \n",
    "    return data['name'].iloc[res_idx]"
   ]
  },
  {
   "cell_type": "code",
   "execution_count": 9,
   "metadata": {},
   "outputs": [
    {
     "data": {
      "text/plain": [
       "514                       LFU Cache\n",
       "540        All O`one Data Structure\n",
       "274                  Design HashMap\n",
       "380                   Map Sum Pairs\n",
       "581    Insert Delete GetRandom O(1)\n",
       "275                  Design HashSet\n",
       "690    Implement Trie (Prefix Tree)\n",
       "459     Convert BST to Greater Tree\n",
       "83       Time Based Key-Value Store\n",
       "343                 My Calendar III\n",
       "Name: name, dtype: object"
      ]
     },
     "execution_count": 9,
     "metadata": {},
     "output_type": "execute_result"
    }
   ],
   "source": [
    "get_recommendations('LRU Cache')"
   ]
  },
  {
   "cell_type": "code",
   "execution_count": 10,
   "metadata": {},
   "outputs": [
    {
     "data": {
      "text/plain": [
       "728                       LRU Cache\n",
       "540        All O`one Data Structure\n",
       "274                  Design HashMap\n",
       "380                   Map Sum Pairs\n",
       "581    Insert Delete GetRandom O(1)\n",
       "275                  Design HashSet\n",
       "459     Convert BST to Greater Tree\n",
       "690    Implement Trie (Prefix Tree)\n",
       "83       Time Based Key-Value Store\n",
       "343                 My Calendar III\n",
       "Name: name, dtype: object"
      ]
     },
     "execution_count": 10,
     "metadata": {},
     "output_type": "execute_result"
    }
   ],
   "source": [
    "get_recommendations('LFU Cache')"
   ]
  },
  {
   "cell_type": "code",
   "execution_count": 13,
   "metadata": {},
   "outputs": [
    {
     "data": {
      "text/plain": [
       "853                       Merge Two Sorted Lists\n",
       "87                     Squares of a Sorted Array\n",
       "786                           Merge Sorted Array\n",
       "791           Remove Duplicates from Sorted List\n",
       "529                           Add Two Numbers II\n",
       "765    Convert Sorted List to Binary Search Tree\n",
       "792        Remove Duplicates from Sorted List II\n",
       "872                              Add Two Numbers\n",
       "254                           Design Linked List\n",
       "855             Remove Nth Node From End of List\n",
       "Name: name, dtype: object"
      ]
     },
     "execution_count": 13,
     "metadata": {},
     "output_type": "execute_result"
    }
   ],
   "source": [
    "get_recommendations('Merge k Sorted Lists')"
   ]
  },
  {
   "cell_type": "code",
   "execution_count": 17,
   "metadata": {},
   "outputs": [
    {
     "data": {
      "text/plain": [
       "486                        Diagonal Traverse\n",
       "815                         Spiral Matrix II\n",
       "310                          Toeplitz Matrix\n",
       "826                             Rotate Image\n",
       "440                       Reshape the Matrix\n",
       "455                                01 Matrix\n",
       "593    Max Sum of Rectangle No Larger Than K\n",
       "800                       Search a 2D Matrix\n",
       "631           Range Sum Query 2D - Immutable\n",
       "677                           Maximal Square\n",
       "Name: name, dtype: object"
      ]
     },
     "execution_count": 17,
     "metadata": {},
     "output_type": "execute_result"
    }
   ],
   "source": [
    "get_recommendations('Spiral Matrix')"
   ]
  },
  {
   "cell_type": "code",
   "execution_count": 19,
   "metadata": {},
   "outputs": [
    {
     "data": {
      "text/plain": [
       "410                                 Decode Ways II\n",
       "185                        Decoded String at Index\n",
       "576                                    Mini Parser\n",
       "567                                  Decode String\n",
       "650                                 Missing Number\n",
       "148                           Reverse Only Letters\n",
       "854                              Valid Parentheses\n",
       "677                                 Maximal Square\n",
       "657              Different Ways to Add Parentheses\n",
       "687    Add and Search Word - Data structure design\n",
       "Name: name, dtype: object"
      ]
     },
     "execution_count": 19,
     "metadata": {},
     "output_type": "execute_result"
    }
   ],
   "source": [
    "get_recommendations('Decode Ways')"
   ]
  },
  {
   "cell_type": "code",
   "execution_count": null,
   "metadata": {},
   "outputs": [],
   "source": []
  }
 ],
 "metadata": {
  "kernelspec": {
   "display_name": "Python 3",
   "language": "python",
   "name": "python3"
  },
  "language_info": {
   "codemirror_mode": {
    "name": "ipython",
    "version": 3
   },
   "file_extension": ".py",
   "mimetype": "text/x-python",
   "name": "python",
   "nbconvert_exporter": "python",
   "pygments_lexer": "ipython3",
   "version": "3.7.2"
  }
 },
 "nbformat": 4,
 "nbformat_minor": 2
}
