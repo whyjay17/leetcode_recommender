{
 "cells": [
  {
   "cell_type": "code",
   "execution_count": 1,
   "metadata": {},
   "outputs": [],
   "source": [
    "import pandas as pd\n",
    "import ast\n",
    "# Import TfIdfVectorizer from scikit-learn\n",
    "from sklearn.feature_extraction.text import TfidfVectorizer\n",
    "from sklearn.metrics.pairwise import linear_kernel, cosine_similarity"
   ]
  },
  {
   "cell_type": "code",
   "execution_count": 2,
   "metadata": {},
   "outputs": [],
   "source": [
    "# Load Movies Metadata\n",
    "data = pd.read_csv('../data/leetcode_data_processed_synset2.csv', low_memory=False)\n",
    "test = pd.read_csv('../data/leetcode_labels.csv', low_memory=False)\n",
    "test['similar_questions'] = test['similar_questions'].apply(ast.literal_eval)"
   ]
  },
  {
   "cell_type": "code",
   "execution_count": 3,
   "metadata": {},
   "outputs": [],
   "source": [
    "data['content'] = data['content'].astype(str)\n",
    "data['content'] = data['content'].apply(lambda x: x.replace('[','').replace(']',''))"
   ]
  },
  {
   "cell_type": "code",
   "execution_count": 4,
   "metadata": {},
   "outputs": [],
   "source": [
    "def synset_tokenizer(doc):\n",
    "    return doc.split(',')"
   ]
  },
  {
   "cell_type": "code",
   "execution_count": 5,
   "metadata": {},
   "outputs": [
    {
     "data": {
      "text/plain": [
       "(874, 11327)"
      ]
     },
     "execution_count": 5,
     "metadata": {},
     "output_type": "execute_result"
    }
   ],
   "source": [
    "sfidf = TfidfVectorizer(tokenizer = synset_tokenizer)\n",
    "sfidf_matrix = sfidf.fit_transform(data['content'])\n",
    "sfidf_matrix.shape"
   ]
  },
  {
   "cell_type": "code",
   "execution_count": 6,
   "metadata": {},
   "outputs": [],
   "source": [
    "# Compute the cosine similarity matrix\n",
    "cosine_sim = linear_kernel(sfidf_matrix, sfidf_matrix)\n",
    "\n",
    "#Construct a reverse map of indices and movie titles\n",
    "indices = pd.Series(data.index, index=data['name']).drop_duplicates()\n",
    "idx = pd.Series(data.index, index=data['name']).drop_duplicates()"
   ]
  },
  {
   "cell_type": "code",
   "execution_count": 30,
   "metadata": {},
   "outputs": [],
   "source": [
    "def get_recommendations(title, cosine_sim=cosine_sim, threshold=0.25):\n",
    "    # get the idx of the movie that matches the title\n",
    "    movie_idx = idx[title]\n",
    "    # get the pairwise similarity scores with that movie\n",
    "    sim_scores = list(enumerate(cosine_sim[movie_idx]))\n",
    "    # sort\n",
    "    sim_scores = sorted(sim_scores, key=lambda x: x[1], reverse=True)\n",
    "    sim_scores = [sim for sim in sim_scores[1:] if sim[1] > threshold]\n",
    "    res_idx = [i[0] for i in sim_scores]\n",
    "    # print(sim_scores)\n",
    "    return data['name'].iloc[res_idx].tolist()"
   ]
  },
  {
   "cell_type": "code",
   "execution_count": 31,
   "metadata": {},
   "outputs": [],
   "source": [
    "def is_correct(predictions, actual):\n",
    "    # if there is an overlap, return True\n",
    "    return not set(predictions).isdisjoint(actual)"
   ]
  },
  {
   "cell_type": "code",
   "execution_count": 32,
   "metadata": {},
   "outputs": [
    {
     "name": "stdout",
     "output_type": "stream",
     "text": [
      "Correct = 272, Total = 485, Acc = 0.5608247422680412\n"
     ]
    }
   ],
   "source": [
    "# Compute recommender accuracy\n",
    "\n",
    "correct = 0\n",
    "total = len(test)\n",
    "\n",
    "for row in test.iterrows():\n",
    "    question = row[1]['name']\n",
    "    predictions = get_recommendations(question)\n",
    "    actual = test[test['name'] == question].similar_questions.values[0]\n",
    "    if is_correct(actual, predictions):\n",
    "        correct += 1\n",
    "    \n",
    "print('Correct = {}, Total = {}, Acc = {}'.format(correct, total, float(correct/total)))"
   ]
  },
  {
   "cell_type": "code",
   "execution_count": 10,
   "metadata": {},
   "outputs": [
    {
     "data": {
      "text/plain": [
       "['LFU Cache',\n",
       " 'All O`one Data Structure',\n",
       " 'Map Sum Pairs',\n",
       " 'Design HashMap',\n",
       " 'Convert BST to Greater Tree',\n",
       " 'Delete Node in a BST',\n",
       " 'Time Based Key-Value Store',\n",
       " 'Keys and Rooms',\n",
       " 'Knight Dialer',\n",
       " 'Design Circular Deque',\n",
       " 'Insert Delete GetRandom O(1)',\n",
       " 'Find Mode in Binary Search Tree',\n",
       " 'Shortest Path to Get All Keys',\n",
       " 'Freedom Trail',\n",
       " 'Design Circular Queue',\n",
       " 'Permutation Sequence',\n",
       " 'Design HashSet',\n",
       " 'Validate Binary Search Tree']"
      ]
     },
     "execution_count": 10,
     "metadata": {},
     "output_type": "execute_result"
    }
   ],
   "source": [
    "get_recommendations('LRU Cache')"
   ]
  },
  {
   "cell_type": "code",
   "execution_count": 11,
   "metadata": {},
   "outputs": [
    {
     "data": {
      "text/plain": [
       "['LFU Cache',\n",
       " 'All O`one Data Structure',\n",
       " 'Map Sum Pairs',\n",
       " 'Design HashMap',\n",
       " 'Convert BST to Greater Tree',\n",
       " 'Delete Node in a BST',\n",
       " 'Time Based Key-Value Store',\n",
       " 'Keys and Rooms',\n",
       " 'Knight Dialer',\n",
       " 'Design Circular Deque',\n",
       " 'Insert Delete GetRandom O(1)',\n",
       " 'Find Mode in Binary Search Tree',\n",
       " 'Shortest Path to Get All Keys',\n",
       " 'Freedom Trail',\n",
       " 'Design Circular Queue',\n",
       " 'Permutation Sequence',\n",
       " 'Design HashSet',\n",
       " 'Validate Binary Search Tree']"
      ]
     },
     "execution_count": 11,
     "metadata": {},
     "output_type": "execute_result"
    }
   ],
   "source": [
    "get_recommendations('LRU Cache') # with topic-tag"
   ]
  },
  {
   "cell_type": "code",
   "execution_count": 12,
   "metadata": {},
   "outputs": [
    {
     "data": {
      "text/plain": [
       "['LRU Cache',\n",
       " 'All O`one Data Structure',\n",
       " 'Map Sum Pairs',\n",
       " 'Convert BST to Greater Tree',\n",
       " 'Design HashMap',\n",
       " 'Delete Node in a BST',\n",
       " 'Keys and Rooms',\n",
       " 'Knight Dialer',\n",
       " 'Time Based Key-Value Store',\n",
       " 'Find Mode in Binary Search Tree',\n",
       " 'Freedom Trail',\n",
       " 'Shortest Path to Get All Keys',\n",
       " 'Validate Binary Search Tree',\n",
       " 'Design Circular Deque',\n",
       " 'Insert Delete GetRandom O(1)']"
      ]
     },
     "execution_count": 12,
     "metadata": {},
     "output_type": "execute_result"
    }
   ],
   "source": [
    "get_recommendations('LFU Cache')"
   ]
  },
  {
   "cell_type": "code",
   "execution_count": 13,
   "metadata": {},
   "outputs": [
    {
     "data": {
      "text/plain": [
       "['LRU Cache',\n",
       " 'All O`one Data Structure',\n",
       " 'Map Sum Pairs',\n",
       " 'Convert BST to Greater Tree',\n",
       " 'Design HashMap',\n",
       " 'Delete Node in a BST',\n",
       " 'Keys and Rooms',\n",
       " 'Knight Dialer',\n",
       " 'Time Based Key-Value Store',\n",
       " 'Find Mode in Binary Search Tree',\n",
       " 'Freedom Trail',\n",
       " 'Shortest Path to Get All Keys',\n",
       " 'Validate Binary Search Tree',\n",
       " 'Design Circular Deque',\n",
       " 'Insert Delete GetRandom O(1)']"
      ]
     },
     "execution_count": 13,
     "metadata": {},
     "output_type": "execute_result"
    }
   ],
   "source": [
    "get_recommendations('LFU Cache') # with topic-tag"
   ]
  },
  {
   "cell_type": "code",
   "execution_count": 14,
   "metadata": {},
   "outputs": [
    {
     "data": {
      "text/plain": [
       "['Merge Two Sorted Lists']"
      ]
     },
     "execution_count": 14,
     "metadata": {},
     "output_type": "execute_result"
    }
   ],
   "source": [
    "get_recommendations('Merge k Sorted Lists')"
   ]
  },
  {
   "cell_type": "code",
   "execution_count": 15,
   "metadata": {},
   "outputs": [
    {
     "data": {
      "text/plain": [
       "['Merge Two Sorted Lists']"
      ]
     },
     "execution_count": 15,
     "metadata": {},
     "output_type": "execute_result"
    }
   ],
   "source": [
    "get_recommendations('Merge k Sorted Lists') # with topic-tag"
   ]
  },
  {
   "cell_type": "code",
   "execution_count": 16,
   "metadata": {},
   "outputs": [
    {
     "data": {
      "text/plain": [
       "['Diagonal Traverse',\n",
       " 'Spiral Matrix II',\n",
       " 'Toeplitz Matrix',\n",
       " 'Kth Smallest Element in a Sorted Matrix',\n",
       " 'Rotate Image',\n",
       " 'Max Sum of Rectangle No Larger Than K',\n",
       " 'Kth Largest Element in a Stream',\n",
       " 'Reshape the Matrix',\n",
       " '01 Matrix']"
      ]
     },
     "execution_count": 16,
     "metadata": {},
     "output_type": "execute_result"
    }
   ],
   "source": [
    "get_recommendations('Spiral Matrix')"
   ]
  },
  {
   "cell_type": "code",
   "execution_count": 17,
   "metadata": {},
   "outputs": [
    {
     "data": {
      "text/plain": [
       "['Diagonal Traverse',\n",
       " 'Spiral Matrix II',\n",
       " 'Toeplitz Matrix',\n",
       " 'Kth Smallest Element in a Sorted Matrix',\n",
       " 'Rotate Image',\n",
       " 'Max Sum of Rectangle No Larger Than K',\n",
       " 'Kth Largest Element in a Stream',\n",
       " 'Reshape the Matrix',\n",
       " '01 Matrix']"
      ]
     },
     "execution_count": 17,
     "metadata": {},
     "output_type": "execute_result"
    }
   ],
   "source": [
    "get_recommendations('Spiral Matrix') # with topic-tag"
   ]
  },
  {
   "cell_type": "code",
   "execution_count": 18,
   "metadata": {},
   "outputs": [
    {
     "data": {
      "text/plain": [
       "['Decode Ways II',\n",
       " 'Decoded String at Index',\n",
       " 'Valid Anagram',\n",
       " 'Different Ways to Add Parentheses',\n",
       " 'Triples with Bitwise AND Equal To Zero',\n",
       " 'Magical String']"
      ]
     },
     "execution_count": 18,
     "metadata": {},
     "output_type": "execute_result"
    }
   ],
   "source": [
    "get_recommendations('Decode Ways')"
   ]
  },
  {
   "cell_type": "code",
   "execution_count": 19,
   "metadata": {},
   "outputs": [
    {
     "data": {
      "text/plain": [
       "['Decode Ways II',\n",
       " 'Decoded String at Index',\n",
       " 'Valid Anagram',\n",
       " 'Different Ways to Add Parentheses',\n",
       " 'Triples with Bitwise AND Equal To Zero',\n",
       " 'Magical String']"
      ]
     },
     "execution_count": 19,
     "metadata": {},
     "output_type": "execute_result"
    }
   ],
   "source": [
    "get_recommendations('Decode Ways') # with topic-tag"
   ]
  },
  {
   "cell_type": "code",
   "execution_count": 20,
   "metadata": {},
   "outputs": [
    {
     "data": {
      "text/plain": [
       "['Two Sum II - Input array is sorted',\n",
       " 'Search Insert Position',\n",
       " 'Binary Search',\n",
       " 'Implement Trie (Prefix Tree)',\n",
       " 'Binary Search Tree Iterator',\n",
       " 'First Unique Character in a String',\n",
       " 'Kth Largest Element in a Stream',\n",
       " 'Stream of Characters',\n",
       " 'Random Pick Index',\n",
       " '3Sum With Multiplicity',\n",
       " 'Find Peak Element',\n",
       " 'Bitwise AND of Numbers Range',\n",
       " 'Two Sum IV - Input is a BST',\n",
       " 'Expression Add Operators',\n",
       " 'Sort Array By Parity',\n",
       " 'Binary Prefix Divisible By 5',\n",
       " 'Design Circular Deque',\n",
       " \"Pascal's Triangle II\",\n",
       " 'Nth Magical Number',\n",
       " 'Search in Rotated Sorted Array',\n",
       " 'Largest Number At Least Twice of Others',\n",
       " 'Keyboard Row',\n",
       " 'Add Two Numbers']"
      ]
     },
     "execution_count": 20,
     "metadata": {},
     "output_type": "execute_result"
    }
   ],
   "source": [
    "get_recommendations('Two Sum')"
   ]
  },
  {
   "cell_type": "code",
   "execution_count": 21,
   "metadata": {},
   "outputs": [
    {
     "data": {
      "text/plain": [
       "['Two Sum II - Input array is sorted',\n",
       " 'Search Insert Position',\n",
       " 'Binary Search',\n",
       " 'Implement Trie (Prefix Tree)',\n",
       " 'Binary Search Tree Iterator',\n",
       " 'First Unique Character in a String',\n",
       " 'Kth Largest Element in a Stream',\n",
       " 'Stream of Characters',\n",
       " 'Random Pick Index',\n",
       " '3Sum With Multiplicity',\n",
       " 'Find Peak Element',\n",
       " 'Bitwise AND of Numbers Range',\n",
       " 'Two Sum IV - Input is a BST',\n",
       " 'Expression Add Operators',\n",
       " 'Sort Array By Parity',\n",
       " 'Binary Prefix Divisible By 5',\n",
       " 'Design Circular Deque',\n",
       " \"Pascal's Triangle II\",\n",
       " 'Nth Magical Number',\n",
       " 'Search in Rotated Sorted Array',\n",
       " 'Largest Number At Least Twice of Others',\n",
       " 'Keyboard Row',\n",
       " 'Add Two Numbers']"
      ]
     },
     "execution_count": 21,
     "metadata": {},
     "output_type": "execute_result"
    }
   ],
   "source": [
    "get_recommendations('Two Sum') # with topic-tag"
   ]
  },
  {
   "cell_type": "code",
   "execution_count": 22,
   "metadata": {},
   "outputs": [
    {
     "data": {
      "text/plain": [
       "['Matrix Cells in Distance Order',\n",
       " 'Find K-th Smallest Pair Distance',\n",
       " 'Diagonal Traverse',\n",
       " 'Max Sum of Rectangle No Larger Than K',\n",
       " 'Spiral Matrix']"
      ]
     },
     "execution_count": 22,
     "metadata": {},
     "output_type": "execute_result"
    }
   ],
   "source": [
    "get_recommendations('01 Matrix') "
   ]
  },
  {
   "cell_type": "code",
   "execution_count": 23,
   "metadata": {},
   "outputs": [
    {
     "data": {
      "text/plain": [
       "['Matrix Cells in Distance Order',\n",
       " 'Find K-th Smallest Pair Distance',\n",
       " 'Diagonal Traverse',\n",
       " 'Max Sum of Rectangle No Larger Than K',\n",
       " 'Spiral Matrix']"
      ]
     },
     "execution_count": 23,
     "metadata": {},
     "output_type": "execute_result"
    }
   ],
   "source": [
    "get_recommendations('01 Matrix') # with topic-tag"
   ]
  },
  {
   "cell_type": "code",
   "execution_count": 24,
   "metadata": {},
   "outputs": [
    {
     "data": {
      "text/plain": [
       "['Word Ladder II',\n",
       " 'Number of Matching Subsequences',\n",
       " 'Longest Word in Dictionary',\n",
       " 'Maximum Product of Word Lengths',\n",
       " 'Word Subsets',\n",
       " 'Shortest Completing Word',\n",
       " 'Word Search',\n",
       " 'Substring with Concatenation of All Words',\n",
       " 'Longest String Chain',\n",
       " 'Word Search II',\n",
       " 'Unique Morse Code Words',\n",
       " 'Goat Latin',\n",
       " 'Concatenated Words',\n",
       " 'Most Common Word',\n",
       " 'Length of Last Word',\n",
       " 'Replace Words',\n",
       " 'Guess the Word',\n",
       " 'Detect Capital',\n",
       " 'Prefix and Suffix Search',\n",
       " 'Reverse Words in a String III',\n",
       " 'Similar String Groups',\n",
       " 'Uncommon Words from Two Sentences',\n",
       " 'Top K Frequent Words',\n",
       " 'Vowel Spellchecker',\n",
       " 'Add and Search Word - Data structure design',\n",
       " 'Short Encoding of Words',\n",
       " 'Find and Replace Pattern',\n",
       " 'Text Justification',\n",
       " 'Word Break II',\n",
       " 'Expressive Words',\n",
       " 'Keyboard Row',\n",
       " 'Reorder Log Files',\n",
       " 'Stream of Characters',\n",
       " 'Verifying an Alien Dictionary']"
      ]
     },
     "execution_count": 24,
     "metadata": {},
     "output_type": "execute_result"
    }
   ],
   "source": [
    "get_recommendations('Word Ladder') # with topic-tag"
   ]
  },
  {
   "cell_type": "code",
   "execution_count": 25,
   "metadata": {},
   "outputs": [
    {
     "data": {
      "text/plain": [
       "['Smallest Subtree with all the Deepest Nodes',\n",
       " 'Middle of the Linked List',\n",
       " 'Minimize Malware Spread II',\n",
       " 'Maximum Difference Between Node and Ancestor',\n",
       " 'All Paths From Source to Target',\n",
       " 'Binary Tree Pruning',\n",
       " 'Minimum Distance Between BST Nodes',\n",
       " 'Swap Nodes in Pairs',\n",
       " 'Next Greater Node In Linked List',\n",
       " 'Minimize Malware Spread',\n",
       " 'Increasing Order Search Tree',\n",
       " 'Binary Tree Maximum Path Sum',\n",
       " 'Lowest Common Ancestor of a Binary Tree',\n",
       " 'Smallest String Starting From Leaf',\n",
       " 'Lowest Common Ancestor of a Binary Search Tree',\n",
       " 'Reachable Nodes In Subdivided Graph',\n",
       " 'Cousins in Binary Tree',\n",
       " 'Delete Node in a BST',\n",
       " 'Search in a Binary Search Tree',\n",
       " 'Recover a Tree From Preorder Traversal',\n",
       " 'Merge Two Binary Trees',\n",
       " 'Reverse Nodes in k-Group',\n",
       " 'All Nodes Distance K in Binary Tree',\n",
       " 'Copy List with Random Pointer',\n",
       " 'Design Linked List',\n",
       " 'Vertical Order Traversal of a Binary Tree',\n",
       " 'Minimum Depth of Binary Tree',\n",
       " 'Binary Search Tree to Greater Sum Tree',\n",
       " 'Maximum Depth of N-ary Tree',\n",
       " 'Is Graph Bipartite?',\n",
       " 'Most Frequent Subtree Sum',\n",
       " 'Delete Node in a Linked List',\n",
       " 'Intersection of Two Linked Lists',\n",
       " 'Maximum Depth of Binary Tree',\n",
       " 'Binary Tree Cameras',\n",
       " 'Binary Tree Paths',\n",
       " 'Partition List',\n",
       " 'Range Sum of BST',\n",
       " 'Shortest Path Visiting All Nodes',\n",
       " 'Univalued Binary Tree',\n",
       " 'Path Sum III',\n",
       " 'All Possible Full Binary Trees',\n",
       " 'Flip Binary Tree To Match Preorder Traversal',\n",
       " 'Construct Quad Tree',\n",
       " 'Sum of Distances in Tree',\n",
       " 'Find Eventual Safe States',\n",
       " 'Odd Even Linked List',\n",
       " 'Validate Binary Search Tree',\n",
       " 'Quad Tree Intersection',\n",
       " 'Redundant Connection II',\n",
       " 'Binary Tree Tilt',\n",
       " 'Find Mode in Binary Search Tree',\n",
       " 'Insert into a Binary Search Tree',\n",
       " 'Remove Nth Node From End of List',\n",
       " 'Second Minimum Node In a Binary Tree',\n",
       " 'Subtree of Another Tree',\n",
       " 'Sum of Root To Leaf Binary Numbers']"
      ]
     },
     "execution_count": 25,
     "metadata": {},
     "output_type": "execute_result"
    }
   ],
   "source": [
    "get_recommendations('Clone Graph') # with topic-tag"
   ]
  },
  {
   "cell_type": "code",
   "execution_count": 26,
   "metadata": {},
   "outputs": [
    {
     "data": {
      "text/plain": [
       "['Swap Adjacent in LR String']"
      ]
     },
     "execution_count": 26,
     "metadata": {},
     "output_type": "execute_result"
    }
   ],
   "source": [
    "get_recommendations('Minimum Genetic Mutation') # with topic-tag"
   ]
  },
  {
   "cell_type": "code",
   "execution_count": null,
   "metadata": {},
   "outputs": [],
   "source": []
  }
 ],
 "metadata": {
  "kernelspec": {
   "display_name": "Python 3",
   "language": "python",
   "name": "python3"
  },
  "language_info": {
   "codemirror_mode": {
    "name": "ipython",
    "version": 3
   },
   "file_extension": ".py",
   "mimetype": "text/x-python",
   "name": "python",
   "nbconvert_exporter": "python",
   "pygments_lexer": "ipython3",
   "version": "3.7.1"
  }
 },
 "nbformat": 4,
 "nbformat_minor": 2
}
