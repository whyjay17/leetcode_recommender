{
 "cells": [
  {
   "cell_type": "code",
   "execution_count": 1,
   "metadata": {},
   "outputs": [],
   "source": [
    "import pandas as pd\n",
    "# Import TfIdfVectorizer from scikit-learn\n",
    "from sklearn.feature_extraction.text import TfidfVectorizer\n",
    "from sklearn.metrics.pairwise import linear_kernel"
   ]
  },
  {
   "cell_type": "code",
   "execution_count": 19,
   "metadata": {},
   "outputs": [],
   "source": [
    "# Load Movies Metadata\n",
    "data = pd.read_csv('../data/leetcode_data_processed_synset2.csv', low_memory=False)"
   ]
  },
  {
   "cell_type": "code",
   "execution_count": 20,
   "metadata": {},
   "outputs": [],
   "source": [
    "data['content'] = data['content'].astype(str)\n",
    "data['content'] = data['content'].apply(lambda x: x.replace('[','').replace(']',''))"
   ]
  },
  {
   "cell_type": "code",
   "execution_count": 21,
   "metadata": {},
   "outputs": [],
   "source": [
    "def synset_tokenizer(doc):\n",
    "    return doc.split(',')"
   ]
  },
  {
   "cell_type": "code",
   "execution_count": 22,
   "metadata": {},
   "outputs": [
    {
     "data": {
      "text/plain": [
       "(874, 11327)"
      ]
     },
     "execution_count": 22,
     "metadata": {},
     "output_type": "execute_result"
    }
   ],
   "source": [
    "sfidf = TfidfVectorizer(tokenizer = synset_tokenizer)\n",
    "sfidf_matrix = sfidf.fit_transform(data['content'])\n",
    "sfidf_matrix.shape"
   ]
  },
  {
   "cell_type": "code",
   "execution_count": 26,
   "metadata": {},
   "outputs": [],
   "source": [
    "# Compute the cosine similarity matrix\n",
    "cosine_sim = linear_kernel(sfidf_matrix, sfidf_matrix)\n",
    "\n",
    "#Construct a reverse map of indices and movie titles\n",
    "indices = pd.Series(data.index, index=data['name']).drop_duplicates()\n",
    "idx = pd.Series(data.index, index=data['name']).drop_duplicates()"
   ]
  },
  {
   "cell_type": "code",
   "execution_count": 27,
   "metadata": {},
   "outputs": [
    {
     "data": {
      "text/plain": [
       "name\n",
       "Shortest Path in Binary Matrix    0\n",
       "Shortest Common Supersequence     1\n",
       "Largest Values From Labels        2\n",
       "dtype: int64"
      ]
     },
     "execution_count": 27,
     "metadata": {},
     "output_type": "execute_result"
    }
   ],
   "source": [
    "idx[:3]"
   ]
  },
  {
   "cell_type": "code",
   "execution_count": 36,
   "metadata": {},
   "outputs": [],
   "source": [
    "def get_recommendations(title, cosine_sim=cosine_sim):\n",
    "    # get the idx of the movie that matches the title\n",
    "    movie_idx = idx[title]\n",
    "    # get the pairwise similarity scores with that movie\n",
    "    sim_scores = list(enumerate(cosine_sim[movie_idx]))\n",
    "    # sort\n",
    "    sim_scores = sorted(sim_scores, key=lambda x: x[1], reverse=True)\n",
    "    sim_scores = sim_scores[1:11]\n",
    "    res_idx = [i[0] for i in sim_scores]\n",
    "    print(sim_scores)\n",
    "    \n",
    "    return data['name'].iloc[res_idx]"
   ]
  },
  {
   "cell_type": "code",
   "execution_count": 12,
   "metadata": {},
   "outputs": [
    {
     "data": {
      "text/plain": [
       "514                       LFU Cache\n",
       "540        All O`one Data Structure\n",
       "380                   Map Sum Pairs\n",
       "274                  Design HashMap\n",
       "459     Convert BST to Greater Tree\n",
       "524            Delete Node in a BST\n",
       "83       Time Based Key-Value Store\n",
       "230                  Keys and Rooms\n",
       "130                   Knight Dialer\n",
       "581    Insert Delete GetRandom O(1)\n",
       "Name: name, dtype: object"
      ]
     },
     "execution_count": 12,
     "metadata": {},
     "output_type": "execute_result"
    }
   ],
   "source": [
    "get_recommendations('LRU Cache')"
   ]
  },
  {
   "cell_type": "code",
   "execution_count": 37,
   "metadata": {},
   "outputs": [
    {
     "name": "stdout",
     "output_type": "stream",
     "text": [
      "[(514, 0.9650578209531121), (540, 0.772681783027939), (380, 0.5843460530678507), (274, 0.537975707125591), (459, 0.5192215846801062), (524, 0.46123278382190763), (83, 0.436529441822993), (230, 0.434049631130404), (130, 0.41050831894966266), (241, 0.3797445990492549)]\n"
     ]
    },
    {
     "data": {
      "text/plain": [
       "514                      LFU Cache\n",
       "540       All O`one Data Structure\n",
       "380                  Map Sum Pairs\n",
       "274                 Design HashMap\n",
       "459    Convert BST to Greater Tree\n",
       "524           Delete Node in a BST\n",
       "83      Time Based Key-Value Store\n",
       "230                 Keys and Rooms\n",
       "130                  Knight Dialer\n",
       "241          Design Circular Deque\n",
       "Name: name, dtype: object"
      ]
     },
     "execution_count": 37,
     "metadata": {},
     "output_type": "execute_result"
    }
   ],
   "source": [
    "get_recommendations('LRU Cache') # with topic-tag"
   ]
  },
  {
   "cell_type": "code",
   "execution_count": 13,
   "metadata": {},
   "outputs": [
    {
     "data": {
      "text/plain": [
       "728                          LRU Cache\n",
       "540           All O`one Data Structure\n",
       "380                      Map Sum Pairs\n",
       "274                     Design HashMap\n",
       "459        Convert BST to Greater Tree\n",
       "524               Delete Node in a BST\n",
       "230                     Keys and Rooms\n",
       "130                      Knight Dialer\n",
       "83          Time Based Key-Value Store\n",
       "484    Find Mode in Binary Search Tree\n",
       "Name: name, dtype: object"
      ]
     },
     "execution_count": 13,
     "metadata": {},
     "output_type": "execute_result"
    }
   ],
   "source": [
    "get_recommendations('LFU Cache')"
   ]
  },
  {
   "cell_type": "code",
   "execution_count": 38,
   "metadata": {},
   "outputs": [
    {
     "name": "stdout",
     "output_type": "stream",
     "text": [
      "[(728, 0.9650578209531121), (540, 0.8402934680204565), (380, 0.6416703100630449), (459, 0.5863123968385173), (274, 0.5673610346368709), (524, 0.5044902946355055), (230, 0.48649923754028296), (130, 0.45884538572900824), (83, 0.45327617382105717), (484, 0.4169214142934559)]\n"
     ]
    },
    {
     "data": {
      "text/plain": [
       "728                          LRU Cache\n",
       "540           All O`one Data Structure\n",
       "380                      Map Sum Pairs\n",
       "459        Convert BST to Greater Tree\n",
       "274                     Design HashMap\n",
       "524               Delete Node in a BST\n",
       "230                     Keys and Rooms\n",
       "130                      Knight Dialer\n",
       "83          Time Based Key-Value Store\n",
       "484    Find Mode in Binary Search Tree\n",
       "Name: name, dtype: object"
      ]
     },
     "execution_count": 38,
     "metadata": {},
     "output_type": "execute_result"
    }
   ],
   "source": [
    "get_recommendations('LFU Cache') # with topic-tag"
   ]
  },
  {
   "cell_type": "code",
   "execution_count": 14,
   "metadata": {},
   "outputs": [
    {
     "data": {
      "text/plain": [
       "853                       Merge Two Sorted Lists\n",
       "855             Remove Nth Node From End of List\n",
       "254                           Design Linked List\n",
       "727                          Insertion Sort List\n",
       "12                              Distant Barcodes\n",
       "32                          Stream of Characters\n",
       "87                     Squares of a Sorted Array\n",
       "301              Kth Largest Element in a Stream\n",
       "765    Convert Sorted List to Binary Search Tree\n",
       "257                       Linked List Components\n",
       "Name: name, dtype: object"
      ]
     },
     "execution_count": 14,
     "metadata": {},
     "output_type": "execute_result"
    }
   ],
   "source": [
    "get_recommendations('Merge k Sorted Lists')"
   ]
  },
  {
   "cell_type": "code",
   "execution_count": 39,
   "metadata": {},
   "outputs": [
    {
     "name": "stdout",
     "output_type": "stream",
     "text": [
      "[(853, 0.3130103048882949), (855, 0.2938080643469587), (254, 0.28785403650940034), (727, 0.28505626081487734), (87, 0.2781495557695993), (765, 0.2597414921873264), (791, 0.2533739313829453), (32, 0.2519623882761775), (257, 0.2475622165922055), (695, 0.22369360188254356)]\n"
     ]
    },
    {
     "data": {
      "text/plain": [
       "853                       Merge Two Sorted Lists\n",
       "855             Remove Nth Node From End of List\n",
       "254                           Design Linked List\n",
       "727                          Insertion Sort List\n",
       "87                     Squares of a Sorted Array\n",
       "765    Convert Sorted List to Binary Search Tree\n",
       "791           Remove Duplicates from Sorted List\n",
       "32                          Stream of Characters\n",
       "257                       Linked List Components\n",
       "695                  Remove Linked List Elements\n",
       "Name: name, dtype: object"
      ]
     },
     "execution_count": 39,
     "metadata": {},
     "output_type": "execute_result"
    }
   ],
   "source": [
    "get_recommendations('Merge k Sorted Lists') # with topic-tag"
   ]
  },
  {
   "cell_type": "code",
   "execution_count": 15,
   "metadata": {},
   "outputs": [
    {
     "data": {
      "text/plain": [
       "486                          Diagonal Traverse\n",
       "815                           Spiral Matrix II\n",
       "310                            Toeplitz Matrix\n",
       "582    Kth Smallest Element in a Sorted Matrix\n",
       "826                               Rotate Image\n",
       "593      Max Sum of Rectangle No Larger Than K\n",
       "301            Kth Largest Element in a Stream\n",
       "160                       Sort Array By Parity\n",
       "440                         Reshape the Matrix\n",
       "455                                  01 Matrix\n",
       "Name: name, dtype: object"
      ]
     },
     "execution_count": 15,
     "metadata": {},
     "output_type": "execute_result"
    }
   ],
   "source": [
    "get_recommendations('Spiral Matrix')"
   ]
  },
  {
   "cell_type": "code",
   "execution_count": 40,
   "metadata": {},
   "outputs": [
    {
     "name": "stdout",
     "output_type": "stream",
     "text": [
      "[(486, 0.6365222912620896), (815, 0.5610526173280105), (310, 0.43552784590930843), (582, 0.42233507450070457), (826, 0.4120176749907643), (593, 0.3850615265098036), (301, 0.3512521816588942), (440, 0.33602637763230964), (455, 0.31170735954411627), (800, 0.2987798915373623)]\n"
     ]
    },
    {
     "data": {
      "text/plain": [
       "486                          Diagonal Traverse\n",
       "815                           Spiral Matrix II\n",
       "310                            Toeplitz Matrix\n",
       "582    Kth Smallest Element in a Sorted Matrix\n",
       "826                               Rotate Image\n",
       "593      Max Sum of Rectangle No Larger Than K\n",
       "301            Kth Largest Element in a Stream\n",
       "440                         Reshape the Matrix\n",
       "455                                  01 Matrix\n",
       "800                         Search a 2D Matrix\n",
       "Name: name, dtype: object"
      ]
     },
     "execution_count": 40,
     "metadata": {},
     "output_type": "execute_result"
    }
   ],
   "source": [
    "get_recommendations('Spiral Matrix') # with topic-tag"
   ]
  },
  {
   "cell_type": "code",
   "execution_count": 16,
   "metadata": {},
   "outputs": [
    {
     "data": {
      "text/plain": [
       "410                            Decode Ways II\n",
       "185                   Decoded String at Index\n",
       "656                             Valid Anagram\n",
       "498                            Magical String\n",
       "148                      Reverse Only Letters\n",
       "122             Find the Shortest Superstring\n",
       "322                     Special Binary String\n",
       "508    Unique Substrings in Wraparound String\n",
       "759                     Distinct Subsequences\n",
       "657         Different Ways to Add Parentheses\n",
       "Name: name, dtype: object"
      ]
     },
     "execution_count": 16,
     "metadata": {},
     "output_type": "execute_result"
    }
   ],
   "source": [
    "get_recommendations('Decode Ways')"
   ]
  },
  {
   "cell_type": "code",
   "execution_count": 41,
   "metadata": {},
   "outputs": [
    {
     "name": "stdout",
     "output_type": "stream",
     "text": [
      "[(410, 0.6620898012435855), (185, 0.4136794790566193), (656, 0.38298318110132734), (657, 0.36524570770822823), (82, 0.3557255788517896), (498, 0.3280554498731341), (322, 0.2940822846868351), (665, 0.29287337933487834), (148, 0.29188984709215754), (696, 0.2914613347980991)]\n"
     ]
    },
    {
     "data": {
      "text/plain": [
       "410                            Decode Ways II\n",
       "185                   Decoded String at Index\n",
       "656                             Valid Anagram\n",
       "657         Different Ways to Add Parentheses\n",
       "82     Triples with Bitwise AND Equal To Zero\n",
       "498                            Magical String\n",
       "322                     Special Binary String\n",
       "665                       Number of Digit One\n",
       "148                      Reverse Only Letters\n",
       "696                              Happy Number\n",
       "Name: name, dtype: object"
      ]
     },
     "execution_count": 41,
     "metadata": {},
     "output_type": "execute_result"
    }
   ],
   "source": [
    "get_recommendations('Decode Ways') # with topic-tag"
   ]
  },
  {
   "cell_type": "code",
   "execution_count": 17,
   "metadata": {},
   "outputs": [
    {
     "data": {
      "text/plain": [
       "713    Two Sum II - Input array is sorted\n",
       "839                Search Insert Position\n",
       "299                         Binary Search\n",
       "690          Implement Trie (Prefix Tree)\n",
       "708           Binary Search Tree Iterator\n",
       "301       Kth Largest Element in a Stream\n",
       "32                   Stream of Characters\n",
       "574    First Unique Character in a String\n",
       "563                     Random Pick Index\n",
       "160                  Sort Array By Parity\n",
       "Name: name, dtype: object"
      ]
     },
     "execution_count": 17,
     "metadata": {},
     "output_type": "execute_result"
    }
   ],
   "source": [
    "get_recommendations('Two Sum')"
   ]
  },
  {
   "cell_type": "code",
   "execution_count": 42,
   "metadata": {},
   "outputs": [
    {
     "name": "stdout",
     "output_type": "stream",
     "text": [
      "[(713, 0.7577996662875004), (839, 0.5145674798414636), (299, 0.4771875531195551), (690, 0.4636644819325466), (708, 0.44137760949674615), (574, 0.429232514572208), (301, 0.4054920392147868), (32, 0.4045659722113723), (563, 0.3681471347110355), (142, 0.3587101018888206)]\n"
     ]
    },
    {
     "data": {
      "text/plain": [
       "713    Two Sum II - Input array is sorted\n",
       "839                Search Insert Position\n",
       "299                         Binary Search\n",
       "690          Implement Trie (Prefix Tree)\n",
       "708           Binary Search Tree Iterator\n",
       "574    First Unique Character in a String\n",
       "301       Kth Largest Element in a Stream\n",
       "32                   Stream of Characters\n",
       "563                     Random Pick Index\n",
       "142                3Sum With Multiplicity\n",
       "Name: name, dtype: object"
      ]
     },
     "execution_count": 42,
     "metadata": {},
     "output_type": "execute_result"
    }
   ],
   "source": [
    "get_recommendations('Two Sum') # with topic-tag"
   ]
  },
  {
   "cell_type": "code",
   "execution_count": 18,
   "metadata": {},
   "outputs": [
    {
     "data": {
      "text/plain": [
       "35               Matrix Cells in Distance Order\n",
       "354            Find K-th Smallest Pair Distance\n",
       "486                           Diagonal Traverse\n",
       "593       Max Sum of Rectangle No Larger Than K\n",
       "820                               Spiral Matrix\n",
       "11     Number of Submatrices That Sum to Target\n",
       "310                             Toeplitz Matrix\n",
       "501                      Total Hamming Distance\n",
       "557                          Sum of Left Leaves\n",
       "800                          Search a 2D Matrix\n",
       "Name: name, dtype: object"
      ]
     },
     "execution_count": 18,
     "metadata": {},
     "output_type": "execute_result"
    }
   ],
   "source": [
    "get_recommendations('01 Matrix') "
   ]
  },
  {
   "cell_type": "code",
   "execution_count": 43,
   "metadata": {},
   "outputs": [
    {
     "name": "stdout",
     "output_type": "stream",
     "text": [
      "[(35, 0.6207674590982256), (354, 0.36701694524346645), (486, 0.3513887681758842), (593, 0.32050551657072385), (820, 0.31170735954411627), (11, 0.2965656165821788), (310, 0.2904400702568235), (501, 0.2871425415338132), (557, 0.2864076955936276), (800, 0.27840547579261476)]\n"
     ]
    },
    {
     "data": {
      "text/plain": [
       "35               Matrix Cells in Distance Order\n",
       "354            Find K-th Smallest Pair Distance\n",
       "486                           Diagonal Traverse\n",
       "593       Max Sum of Rectangle No Larger Than K\n",
       "820                               Spiral Matrix\n",
       "11     Number of Submatrices That Sum to Target\n",
       "310                             Toeplitz Matrix\n",
       "501                      Total Hamming Distance\n",
       "557                          Sum of Left Leaves\n",
       "800                          Search a 2D Matrix\n",
       "Name: name, dtype: object"
      ]
     },
     "execution_count": 43,
     "metadata": {},
     "output_type": "execute_result"
    }
   ],
   "source": [
    "get_recommendations('01 Matrix') # with topic-tag"
   ]
  },
  {
   "cell_type": "code",
   "execution_count": null,
   "metadata": {},
   "outputs": [],
   "source": []
  }
 ],
 "metadata": {
  "kernelspec": {
   "display_name": "Python 3",
   "language": "python",
   "name": "python3"
  },
  "language_info": {
   "codemirror_mode": {
    "name": "ipython",
    "version": 3
   },
   "file_extension": ".py",
   "mimetype": "text/x-python",
   "name": "python",
   "nbconvert_exporter": "python",
   "pygments_lexer": "ipython3",
   "version": "3.7.1"
  }
 },
 "nbformat": 4,
 "nbformat_minor": 2
}
